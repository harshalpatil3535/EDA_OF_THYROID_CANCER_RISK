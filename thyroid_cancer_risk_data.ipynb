{
 "cells": [
  {
   "cell_type": "code",
   "execution_count": 1,
   "id": "885e452a-a1dc-40e8-ac35-f0f5c682f3fb",
   "metadata": {},
   "outputs": [],
   "source": [
    "import numpy as np\n",
    "import pandas as pd\n",
    "import matplotlib.pyplot as plt\n",
    "import seaborn as sns"
   ]
  },
  {
   "cell_type": "code",
   "execution_count": 2,
   "id": "90c597d2-8e2f-4786-bd78-c014864c940c",
   "metadata": {},
   "outputs": [],
   "source": [
    "df = pd.read_csv(\"thyroid_cancer_risk_data.csv\")"
   ]
  },
  {
   "cell_type": "code",
   "execution_count": 3,
   "id": "d098f660-a7d2-4e04-a360-455db990dca9",
   "metadata": {},
   "outputs": [
    {
     "data": {
      "text/html": [
       "<div>\n",
       "<style scoped>\n",
       "    .dataframe tbody tr th:only-of-type {\n",
       "        vertical-align: middle;\n",
       "    }\n",
       "\n",
       "    .dataframe tbody tr th {\n",
       "        vertical-align: top;\n",
       "    }\n",
       "\n",
       "    .dataframe thead th {\n",
       "        text-align: right;\n",
       "    }\n",
       "</style>\n",
       "<table border=\"1\" class=\"dataframe\">\n",
       "  <thead>\n",
       "    <tr style=\"text-align: right;\">\n",
       "      <th></th>\n",
       "      <th>Patient_ID</th>\n",
       "      <th>Age</th>\n",
       "      <th>Gender</th>\n",
       "      <th>Country</th>\n",
       "      <th>Ethnicity</th>\n",
       "      <th>Family_History</th>\n",
       "      <th>Radiation_Exposure</th>\n",
       "      <th>Iodine_Deficiency</th>\n",
       "      <th>Smoking</th>\n",
       "      <th>Obesity</th>\n",
       "      <th>Diabetes</th>\n",
       "      <th>TSH_Level</th>\n",
       "      <th>T3_Level</th>\n",
       "      <th>T4_Level</th>\n",
       "      <th>Nodule_Size</th>\n",
       "      <th>Thyroid_Cancer_Risk</th>\n",
       "      <th>Diagnosis</th>\n",
       "    </tr>\n",
       "  </thead>\n",
       "  <tbody>\n",
       "    <tr>\n",
       "      <th>0</th>\n",
       "      <td>1</td>\n",
       "      <td>66</td>\n",
       "      <td>Male</td>\n",
       "      <td>Russia</td>\n",
       "      <td>Caucasian</td>\n",
       "      <td>No</td>\n",
       "      <td>Yes</td>\n",
       "      <td>No</td>\n",
       "      <td>No</td>\n",
       "      <td>No</td>\n",
       "      <td>No</td>\n",
       "      <td>9.37</td>\n",
       "      <td>1.67</td>\n",
       "      <td>6.16</td>\n",
       "      <td>1.08</td>\n",
       "      <td>Low</td>\n",
       "      <td>Benign</td>\n",
       "    </tr>\n",
       "    <tr>\n",
       "      <th>1</th>\n",
       "      <td>2</td>\n",
       "      <td>29</td>\n",
       "      <td>Male</td>\n",
       "      <td>Germany</td>\n",
       "      <td>Hispanic</td>\n",
       "      <td>No</td>\n",
       "      <td>Yes</td>\n",
       "      <td>No</td>\n",
       "      <td>No</td>\n",
       "      <td>No</td>\n",
       "      <td>No</td>\n",
       "      <td>1.83</td>\n",
       "      <td>1.73</td>\n",
       "      <td>10.54</td>\n",
       "      <td>4.05</td>\n",
       "      <td>Low</td>\n",
       "      <td>Benign</td>\n",
       "    </tr>\n",
       "    <tr>\n",
       "      <th>2</th>\n",
       "      <td>3</td>\n",
       "      <td>86</td>\n",
       "      <td>Male</td>\n",
       "      <td>Nigeria</td>\n",
       "      <td>Caucasian</td>\n",
       "      <td>No</td>\n",
       "      <td>No</td>\n",
       "      <td>No</td>\n",
       "      <td>No</td>\n",
       "      <td>No</td>\n",
       "      <td>No</td>\n",
       "      <td>6.26</td>\n",
       "      <td>2.59</td>\n",
       "      <td>10.57</td>\n",
       "      <td>4.61</td>\n",
       "      <td>Low</td>\n",
       "      <td>Benign</td>\n",
       "    </tr>\n",
       "    <tr>\n",
       "      <th>3</th>\n",
       "      <td>4</td>\n",
       "      <td>75</td>\n",
       "      <td>Female</td>\n",
       "      <td>India</td>\n",
       "      <td>Asian</td>\n",
       "      <td>No</td>\n",
       "      <td>No</td>\n",
       "      <td>No</td>\n",
       "      <td>No</td>\n",
       "      <td>No</td>\n",
       "      <td>No</td>\n",
       "      <td>4.10</td>\n",
       "      <td>2.62</td>\n",
       "      <td>11.04</td>\n",
       "      <td>2.46</td>\n",
       "      <td>Medium</td>\n",
       "      <td>Benign</td>\n",
       "    </tr>\n",
       "    <tr>\n",
       "      <th>4</th>\n",
       "      <td>5</td>\n",
       "      <td>35</td>\n",
       "      <td>Female</td>\n",
       "      <td>Germany</td>\n",
       "      <td>African</td>\n",
       "      <td>Yes</td>\n",
       "      <td>Yes</td>\n",
       "      <td>No</td>\n",
       "      <td>No</td>\n",
       "      <td>No</td>\n",
       "      <td>No</td>\n",
       "      <td>9.10</td>\n",
       "      <td>2.11</td>\n",
       "      <td>10.71</td>\n",
       "      <td>2.11</td>\n",
       "      <td>High</td>\n",
       "      <td>Benign</td>\n",
       "    </tr>\n",
       "  </tbody>\n",
       "</table>\n",
       "</div>"
      ],
      "text/plain": [
       "   Patient_ID  Age  Gender  Country  Ethnicity Family_History  \\\n",
       "0           1   66    Male   Russia  Caucasian             No   \n",
       "1           2   29    Male  Germany   Hispanic             No   \n",
       "2           3   86    Male  Nigeria  Caucasian             No   \n",
       "3           4   75  Female    India      Asian             No   \n",
       "4           5   35  Female  Germany    African            Yes   \n",
       "\n",
       "  Radiation_Exposure Iodine_Deficiency Smoking Obesity Diabetes  TSH_Level  \\\n",
       "0                Yes                No      No      No       No       9.37   \n",
       "1                Yes                No      No      No       No       1.83   \n",
       "2                 No                No      No      No       No       6.26   \n",
       "3                 No                No      No      No       No       4.10   \n",
       "4                Yes                No      No      No       No       9.10   \n",
       "\n",
       "   T3_Level  T4_Level  Nodule_Size Thyroid_Cancer_Risk Diagnosis  \n",
       "0      1.67      6.16         1.08                 Low    Benign  \n",
       "1      1.73     10.54         4.05                 Low    Benign  \n",
       "2      2.59     10.57         4.61                 Low    Benign  \n",
       "3      2.62     11.04         2.46              Medium    Benign  \n",
       "4      2.11     10.71         2.11                High    Benign  "
      ]
     },
     "execution_count": 3,
     "metadata": {},
     "output_type": "execute_result"
    }
   ],
   "source": [
    "df.head()"
   ]
  },
  {
   "cell_type": "code",
   "execution_count": 4,
   "id": "1e78dbf0-16df-4c52-abcd-abe6765f6198",
   "metadata": {},
   "outputs": [
    {
     "data": {
      "text/plain": [
       "array(['Benign', 'Malignant'], dtype=object)"
      ]
     },
     "execution_count": 4,
     "metadata": {},
     "output_type": "execute_result"
    }
   ],
   "source": [
    "df['Diagnosis'].unique()"
   ]
  },
  {
   "cell_type": "code",
   "execution_count": 5,
   "id": "700277ff-47e3-4b64-8e7a-606160e9a25b",
   "metadata": {},
   "outputs": [
    {
     "name": "stdout",
     "output_type": "stream",
     "text": [
      "<class 'pandas.core.frame.DataFrame'>\n",
      "RangeIndex: 212691 entries, 0 to 212690\n",
      "Data columns (total 17 columns):\n",
      " #   Column               Non-Null Count   Dtype  \n",
      "---  ------               --------------   -----  \n",
      " 0   Patient_ID           212691 non-null  int64  \n",
      " 1   Age                  212691 non-null  int64  \n",
      " 2   Gender               212691 non-null  object \n",
      " 3   Country              212691 non-null  object \n",
      " 4   Ethnicity            212691 non-null  object \n",
      " 5   Family_History       212691 non-null  object \n",
      " 6   Radiation_Exposure   212691 non-null  object \n",
      " 7   Iodine_Deficiency    212691 non-null  object \n",
      " 8   Smoking              212691 non-null  object \n",
      " 9   Obesity              212691 non-null  object \n",
      " 10  Diabetes             212691 non-null  object \n",
      " 11  TSH_Level            212691 non-null  float64\n",
      " 12  T3_Level             212691 non-null  float64\n",
      " 13  T4_Level             212691 non-null  float64\n",
      " 14  Nodule_Size          212691 non-null  float64\n",
      " 15  Thyroid_Cancer_Risk  212691 non-null  object \n",
      " 16  Diagnosis            212691 non-null  object \n",
      "dtypes: float64(4), int64(2), object(11)\n",
      "memory usage: 27.6+ MB\n"
     ]
    }
   ],
   "source": [
    "df.info()"
   ]
  },
  {
   "cell_type": "code",
   "execution_count": 6,
   "id": "4ced2959-da00-40d2-8ffe-653bcf130bc8",
   "metadata": {},
   "outputs": [
    {
     "data": {
      "text/plain": [
       "Patient_ID             0\n",
       "Age                    0\n",
       "Gender                 0\n",
       "Country                0\n",
       "Ethnicity              0\n",
       "Family_History         0\n",
       "Radiation_Exposure     0\n",
       "Iodine_Deficiency      0\n",
       "Smoking                0\n",
       "Obesity                0\n",
       "Diabetes               0\n",
       "TSH_Level              0\n",
       "T3_Level               0\n",
       "T4_Level               0\n",
       "Nodule_Size            0\n",
       "Thyroid_Cancer_Risk    0\n",
       "Diagnosis              0\n",
       "dtype: int64"
      ]
     },
     "execution_count": 6,
     "metadata": {},
     "output_type": "execute_result"
    }
   ],
   "source": [
    "df.isna().sum()"
   ]
  },
  {
   "cell_type": "code",
   "execution_count": 7,
   "id": "04da58be-7ff9-4f16-b6c5-17dd4e3ee4fe",
   "metadata": {},
   "outputs": [
    {
     "data": {
      "text/html": [
       "<div>\n",
       "<style scoped>\n",
       "    .dataframe tbody tr th:only-of-type {\n",
       "        vertical-align: middle;\n",
       "    }\n",
       "\n",
       "    .dataframe tbody tr th {\n",
       "        vertical-align: top;\n",
       "    }\n",
       "\n",
       "    .dataframe thead th {\n",
       "        text-align: right;\n",
       "    }\n",
       "</style>\n",
       "<table border=\"1\" class=\"dataframe\">\n",
       "  <thead>\n",
       "    <tr style=\"text-align: right;\">\n",
       "      <th></th>\n",
       "      <th>Patient_ID</th>\n",
       "      <th>Age</th>\n",
       "      <th>TSH_Level</th>\n",
       "      <th>T3_Level</th>\n",
       "      <th>T4_Level</th>\n",
       "      <th>Nodule_Size</th>\n",
       "    </tr>\n",
       "  </thead>\n",
       "  <tbody>\n",
       "    <tr>\n",
       "      <th>count</th>\n",
       "      <td>212691.00000</td>\n",
       "      <td>212691.000000</td>\n",
       "      <td>212691.000000</td>\n",
       "      <td>212691.000000</td>\n",
       "      <td>212691.000000</td>\n",
       "      <td>212691.000000</td>\n",
       "    </tr>\n",
       "    <tr>\n",
       "      <th>mean</th>\n",
       "      <td>106346.00000</td>\n",
       "      <td>51.918497</td>\n",
       "      <td>5.045102</td>\n",
       "      <td>2.001727</td>\n",
       "      <td>8.246204</td>\n",
       "      <td>2.503403</td>\n",
       "    </tr>\n",
       "    <tr>\n",
       "      <th>std</th>\n",
       "      <td>61398.74739</td>\n",
       "      <td>21.632815</td>\n",
       "      <td>2.860264</td>\n",
       "      <td>0.866248</td>\n",
       "      <td>2.164188</td>\n",
       "      <td>1.444631</td>\n",
       "    </tr>\n",
       "    <tr>\n",
       "      <th>min</th>\n",
       "      <td>1.00000</td>\n",
       "      <td>15.000000</td>\n",
       "      <td>0.100000</td>\n",
       "      <td>0.500000</td>\n",
       "      <td>4.500000</td>\n",
       "      <td>0.000000</td>\n",
       "    </tr>\n",
       "    <tr>\n",
       "      <th>25%</th>\n",
       "      <td>53173.50000</td>\n",
       "      <td>33.000000</td>\n",
       "      <td>2.570000</td>\n",
       "      <td>1.250000</td>\n",
       "      <td>6.370000</td>\n",
       "      <td>1.250000</td>\n",
       "    </tr>\n",
       "    <tr>\n",
       "      <th>50%</th>\n",
       "      <td>106346.00000</td>\n",
       "      <td>52.000000</td>\n",
       "      <td>5.040000</td>\n",
       "      <td>2.000000</td>\n",
       "      <td>8.240000</td>\n",
       "      <td>2.510000</td>\n",
       "    </tr>\n",
       "    <tr>\n",
       "      <th>75%</th>\n",
       "      <td>159518.50000</td>\n",
       "      <td>71.000000</td>\n",
       "      <td>7.520000</td>\n",
       "      <td>2.750000</td>\n",
       "      <td>10.120000</td>\n",
       "      <td>3.760000</td>\n",
       "    </tr>\n",
       "    <tr>\n",
       "      <th>max</th>\n",
       "      <td>212691.00000</td>\n",
       "      <td>89.000000</td>\n",
       "      <td>10.000000</td>\n",
       "      <td>3.500000</td>\n",
       "      <td>12.000000</td>\n",
       "      <td>5.000000</td>\n",
       "    </tr>\n",
       "  </tbody>\n",
       "</table>\n",
       "</div>"
      ],
      "text/plain": [
       "         Patient_ID            Age      TSH_Level       T3_Level  \\\n",
       "count  212691.00000  212691.000000  212691.000000  212691.000000   \n",
       "mean   106346.00000      51.918497       5.045102       2.001727   \n",
       "std     61398.74739      21.632815       2.860264       0.866248   \n",
       "min         1.00000      15.000000       0.100000       0.500000   \n",
       "25%     53173.50000      33.000000       2.570000       1.250000   \n",
       "50%    106346.00000      52.000000       5.040000       2.000000   \n",
       "75%    159518.50000      71.000000       7.520000       2.750000   \n",
       "max    212691.00000      89.000000      10.000000       3.500000   \n",
       "\n",
       "            T4_Level    Nodule_Size  \n",
       "count  212691.000000  212691.000000  \n",
       "mean        8.246204       2.503403  \n",
       "std         2.164188       1.444631  \n",
       "min         4.500000       0.000000  \n",
       "25%         6.370000       1.250000  \n",
       "50%         8.240000       2.510000  \n",
       "75%        10.120000       3.760000  \n",
       "max        12.000000       5.000000  "
      ]
     },
     "execution_count": 7,
     "metadata": {},
     "output_type": "execute_result"
    }
   ],
   "source": [
    "df.describe()"
   ]
  },
  {
   "cell_type": "code",
   "execution_count": 8,
   "id": "c03a7982-0b1b-4020-a103-fc8cf734d38f",
   "metadata": {},
   "outputs": [
    {
     "data": {
      "text/plain": [
       "Index(['Patient_ID', 'Age', 'Gender', 'Country', 'Ethnicity', 'Family_History',\n",
       "       'Radiation_Exposure', 'Iodine_Deficiency', 'Smoking', 'Obesity',\n",
       "       'Diabetes', 'TSH_Level', 'T3_Level', 'T4_Level', 'Nodule_Size',\n",
       "       'Thyroid_Cancer_Risk', 'Diagnosis'],\n",
       "      dtype='object')"
      ]
     },
     "execution_count": 8,
     "metadata": {},
     "output_type": "execute_result"
    }
   ],
   "source": [
    "df.columns"
   ]
  },
  {
   "cell_type": "code",
   "execution_count": 9,
   "id": "734f0423-ee28-475b-bb7e-03b0c9420d90",
   "metadata": {},
   "outputs": [
    {
     "data": {
      "text/plain": [
       "array([66, 29, 86, 75, 35, 89, 38, 17, 36, 67, 16, 44, 52, 78, 74, 47, 72,\n",
       "       63, 73, 56, 76, 61, 65, 69, 21, 87, 53, 32, 18, 28, 23, 85, 58, 22,\n",
       "       49, 50, 64, 20, 68, 77, 48, 88, 62, 54, 40, 55, 43, 59, 79, 15, 25,\n",
       "       19, 42, 26, 37, 51, 41, 57, 27, 46, 80, 71, 84, 70, 33, 82, 31, 83,\n",
       "       30, 34, 81, 45, 39, 60, 24], dtype=int64)"
      ]
     },
     "execution_count": 9,
     "metadata": {},
     "output_type": "execute_result"
    }
   ],
   "source": [
    "df['Age'].unique()\n",
    "# df['Age'].nunique()"
   ]
  },
  {
   "cell_type": "code",
   "execution_count": 10,
   "id": "2b4cff1d-0602-48e9-9112-de63b8569869",
   "metadata": {},
   "outputs": [
    {
     "data": {
      "text/plain": [
       "Gender\n",
       "Female    127527\n",
       "Male       85164\n",
       "Name: count, dtype: int64"
      ]
     },
     "execution_count": 10,
     "metadata": {},
     "output_type": "execute_result"
    }
   ],
   "source": [
    "number_count = df['Gender'].value_counts()\n",
    "number_count"
   ]
  },
  {
   "cell_type": "code",
   "execution_count": 11,
   "id": "837ce84f-7779-4ee1-8167-bcb81282ab16",
   "metadata": {},
   "outputs": [
    {
     "data": {
      "text/html": [
       "<div>\n",
       "<style scoped>\n",
       "    .dataframe tbody tr th:only-of-type {\n",
       "        vertical-align: middle;\n",
       "    }\n",
       "\n",
       "    .dataframe tbody tr th {\n",
       "        vertical-align: top;\n",
       "    }\n",
       "\n",
       "    .dataframe thead th {\n",
       "        text-align: right;\n",
       "    }\n",
       "</style>\n",
       "<table border=\"1\" class=\"dataframe\">\n",
       "  <thead>\n",
       "    <tr style=\"text-align: right;\">\n",
       "      <th></th>\n",
       "      <th>Thyroid_Cancer_Risk</th>\n",
       "      <th>Age</th>\n",
       "      <th>count</th>\n",
       "    </tr>\n",
       "  </thead>\n",
       "  <tbody>\n",
       "    <tr>\n",
       "      <th>169</th>\n",
       "      <td>Medium</td>\n",
       "      <td>89</td>\n",
       "      <td>985</td>\n",
       "    </tr>\n",
       "    <tr>\n",
       "      <th>45</th>\n",
       "      <td>High</td>\n",
       "      <td>89</td>\n",
       "      <td>421</td>\n",
       "    </tr>\n",
       "    <tr>\n",
       "      <th>131</th>\n",
       "      <td>Low</td>\n",
       "      <td>89</td>\n",
       "      <td>1416</td>\n",
       "    </tr>\n",
       "    <tr>\n",
       "      <th>196</th>\n",
       "      <td>Medium</td>\n",
       "      <td>88</td>\n",
       "      <td>958</td>\n",
       "    </tr>\n",
       "    <tr>\n",
       "      <th>17</th>\n",
       "      <td>High</td>\n",
       "      <td>88</td>\n",
       "      <td>440</td>\n",
       "    </tr>\n",
       "    <tr>\n",
       "      <th>...</th>\n",
       "      <td>...</td>\n",
       "      <td>...</td>\n",
       "      <td>...</td>\n",
       "    </tr>\n",
       "    <tr>\n",
       "      <th>190</th>\n",
       "      <td>Medium</td>\n",
       "      <td>16</td>\n",
       "      <td>960</td>\n",
       "    </tr>\n",
       "    <tr>\n",
       "      <th>77</th>\n",
       "      <td>Low</td>\n",
       "      <td>16</td>\n",
       "      <td>1516</td>\n",
       "    </tr>\n",
       "    <tr>\n",
       "      <th>56</th>\n",
       "      <td>High</td>\n",
       "      <td>15</td>\n",
       "      <td>412</td>\n",
       "    </tr>\n",
       "    <tr>\n",
       "      <th>205</th>\n",
       "      <td>Medium</td>\n",
       "      <td>15</td>\n",
       "      <td>950</td>\n",
       "    </tr>\n",
       "    <tr>\n",
       "      <th>129</th>\n",
       "      <td>Low</td>\n",
       "      <td>15</td>\n",
       "      <td>1424</td>\n",
       "    </tr>\n",
       "  </tbody>\n",
       "</table>\n",
       "<p>225 rows × 3 columns</p>\n",
       "</div>"
      ],
      "text/plain": [
       "    Thyroid_Cancer_Risk  Age  count\n",
       "169              Medium   89    985\n",
       "45                 High   89    421\n",
       "131                 Low   89   1416\n",
       "196              Medium   88    958\n",
       "17                 High   88    440\n",
       "..                  ...  ...    ...\n",
       "190              Medium   16    960\n",
       "77                  Low   16   1516\n",
       "56                 High   15    412\n",
       "205              Medium   15    950\n",
       "129                 Low   15   1424\n",
       "\n",
       "[225 rows x 3 columns]"
      ]
     },
     "execution_count": 11,
     "metadata": {},
     "output_type": "execute_result"
    }
   ],
   "source": [
    "very_age_groupby = df.groupby('Thyroid_Cancer_Risk')['Age'].value_counts().reset_index().sort_values(by = 'Age', ascending = False)\n",
    "very_age_groupby"
   ]
  },
  {
   "cell_type": "code",
   "execution_count": 12,
   "id": "db06601a-43ed-4e65-9d8c-46c3313a9154",
   "metadata": {},
   "outputs": [
    {
     "data": {
      "text/plain": [
       "Index(['Patient_ID', 'Age', 'Gender', 'Country', 'Ethnicity', 'Family_History',\n",
       "       'Radiation_Exposure', 'Iodine_Deficiency', 'Smoking', 'Obesity',\n",
       "       'Diabetes', 'TSH_Level', 'T3_Level', 'T4_Level', 'Nodule_Size',\n",
       "       'Thyroid_Cancer_Risk', 'Diagnosis'],\n",
       "      dtype='object')"
      ]
     },
     "execution_count": 12,
     "metadata": {},
     "output_type": "execute_result"
    }
   ],
   "source": [
    "df.columns"
   ]
  },
  {
   "cell_type": "code",
   "execution_count": 13,
   "id": "7e16c30a-45d4-4beb-a5eb-3becfd5f8e33",
   "metadata": {
    "scrolled": true
   },
   "outputs": [
    {
     "data": {
      "text/plain": [
       "array(['No', 'Yes'], dtype=object)"
      ]
     },
     "execution_count": 13,
     "metadata": {},
     "output_type": "execute_result"
    }
   ],
   "source": [
    "df['Family_History'].unique()"
   ]
  },
  {
   "cell_type": "code",
   "execution_count": 14,
   "id": "3ef9f37d-76a3-4940-a5c6-34846cdb0e77",
   "metadata": {},
   "outputs": [
    {
     "data": {
      "text/html": [
       "<div>\n",
       "<style scoped>\n",
       "    .dataframe tbody tr th:only-of-type {\n",
       "        vertical-align: middle;\n",
       "    }\n",
       "\n",
       "    .dataframe tbody tr th {\n",
       "        vertical-align: top;\n",
       "    }\n",
       "\n",
       "    .dataframe thead th {\n",
       "        text-align: right;\n",
       "    }\n",
       "</style>\n",
       "<table border=\"1\" class=\"dataframe\">\n",
       "  <thead>\n",
       "    <tr style=\"text-align: right;\">\n",
       "      <th></th>\n",
       "      <th>TSH_Level</th>\n",
       "      <th>T3_Level</th>\n",
       "      <th>T4_Level</th>\n",
       "      <th>Risk_Score</th>\n",
       "      <th>Nodule_Size</th>\n",
       "    </tr>\n",
       "  </thead>\n",
       "  <tbody>\n",
       "    <tr>\n",
       "      <th>TSH_Level</th>\n",
       "      <td>1.000000</td>\n",
       "      <td>0.000335</td>\n",
       "      <td>-0.000795</td>\n",
       "      <td>0.002494</td>\n",
       "      <td>0.000416</td>\n",
       "    </tr>\n",
       "    <tr>\n",
       "      <th>T3_Level</th>\n",
       "      <td>0.000335</td>\n",
       "      <td>1.000000</td>\n",
       "      <td>-0.004069</td>\n",
       "      <td>-0.000348</td>\n",
       "      <td>-0.001799</td>\n",
       "    </tr>\n",
       "    <tr>\n",
       "      <th>T4_Level</th>\n",
       "      <td>-0.000795</td>\n",
       "      <td>-0.004069</td>\n",
       "      <td>1.000000</td>\n",
       "      <td>0.002761</td>\n",
       "      <td>-0.001860</td>\n",
       "    </tr>\n",
       "    <tr>\n",
       "      <th>Risk_Score</th>\n",
       "      <td>0.002494</td>\n",
       "      <td>-0.000348</td>\n",
       "      <td>0.002761</td>\n",
       "      <td>1.000000</td>\n",
       "      <td>-0.000352</td>\n",
       "    </tr>\n",
       "    <tr>\n",
       "      <th>Nodule_Size</th>\n",
       "      <td>0.000416</td>\n",
       "      <td>-0.001799</td>\n",
       "      <td>-0.001860</td>\n",
       "      <td>-0.000352</td>\n",
       "      <td>1.000000</td>\n",
       "    </tr>\n",
       "  </tbody>\n",
       "</table>\n",
       "</div>"
      ],
      "text/plain": [
       "             TSH_Level  T3_Level  T4_Level  Risk_Score  Nodule_Size\n",
       "TSH_Level     1.000000  0.000335 -0.000795    0.002494     0.000416\n",
       "T3_Level      0.000335  1.000000 -0.004069   -0.000348    -0.001799\n",
       "T4_Level     -0.000795 -0.004069  1.000000    0.002761    -0.001860\n",
       "Risk_Score    0.002494 -0.000348  0.002761    1.000000    -0.000352\n",
       "Nodule_Size   0.000416 -0.001799 -0.001860   -0.000352     1.000000"
      ]
     },
     "execution_count": 14,
     "metadata": {},
     "output_type": "execute_result"
    }
   ],
   "source": [
    "risk_mapping = {'Low': 0, 'Medium': 1, 'High': 2}\n",
    "df['Risk_Score'] = df['Thyroid_Cancer_Risk'].map(risk_mapping)\n",
    "\n",
    "selected_columns = ['TSH_Level','T3_Level','T4_Level','Risk_Score','Nodule_Size']\n",
    "corr = df[selected_columns].corr() \n",
    "corr"
   ]
  },
  {
   "cell_type": "code",
   "execution_count": 15,
   "id": "6f6cc811-4ec2-457d-9791-bae363d24775",
   "metadata": {},
   "outputs": [
    {
     "data": {
      "text/plain": [
       "Risk_Score\n",
       "0    108388\n",
       "1     72400\n",
       "2     31903\n",
       "Name: count, dtype: int64"
      ]
     },
     "execution_count": 15,
     "metadata": {},
     "output_type": "execute_result"
    }
   ],
   "source": [
    "# What is the frequency of different risk levels (e.g., low, medium, high)?\n",
    "risk_mapping = {'Low': 0, 'Medium': 1, 'High': 2}\n",
    "df['Risk_Score'] = df['Thyroid_Cancer_Risk'].map(risk_mapping)\n",
    "df['Risk_Score'].value_counts()"
   ]
  },
  {
   "cell_type": "code",
   "execution_count": 16,
   "id": "d8996ca3-6b7b-4091-b1f8-810dd11184e1",
   "metadata": {},
   "outputs": [
    {
     "data": {
      "text/plain": [
       "Family_History  Risk_Score\n",
       "No              0             82242\n",
       "                1             54948\n",
       "                2             11676\n",
       "Yes             0             26146\n",
       "                2             20227\n",
       "                1             17452\n",
       "Name: count, dtype: int64"
      ]
     },
     "execution_count": 16,
     "metadata": {},
     "output_type": "execute_result"
    }
   ],
   "source": [
    "# Do patients with a family history of thyroid disease have higher risk levels?\n",
    "risk_mapping = {'Low': 0, 'Medium': 1, 'High': 2}\n",
    "df['Risk_Score'] = df['Thyroid_Cancer_Risk'].map(risk_mapping)\n",
    "high_risk = df.groupby('Family_History')['Risk_Score'].value_counts()\n",
    "high_risk"
   ]
  },
  {
   "cell_type": "code",
   "execution_count": 17,
   "id": "34da5c00-494f-48ad-8e83-ac4f20087979",
   "metadata": {},
   "outputs": [
    {
     "data": {
      "text/html": [
       "<div>\n",
       "<style scoped>\n",
       "    .dataframe tbody tr th:only-of-type {\n",
       "        vertical-align: middle;\n",
       "    }\n",
       "\n",
       "    .dataframe tbody tr th {\n",
       "        vertical-align: top;\n",
       "    }\n",
       "\n",
       "    .dataframe thead th {\n",
       "        text-align: right;\n",
       "    }\n",
       "</style>\n",
       "<table border=\"1\" class=\"dataframe\">\n",
       "  <thead>\n",
       "    <tr style=\"text-align: right;\">\n",
       "      <th>Thyroid_Cancer_Risk</th>\n",
       "      <th>High</th>\n",
       "      <th>Low</th>\n",
       "      <th>Medium</th>\n",
       "    </tr>\n",
       "  </thead>\n",
       "  <tbody>\n",
       "    <tr>\n",
       "      <th>Family_History</th>\n",
       "      <td>0.634016</td>\n",
       "      <td>0.241226</td>\n",
       "      <td>0.241050</td>\n",
       "    </tr>\n",
       "    <tr>\n",
       "      <th>Iodine_Deficiency</th>\n",
       "      <td>0.471962</td>\n",
       "      <td>0.209968</td>\n",
       "      <td>0.209986</td>\n",
       "    </tr>\n",
       "    <tr>\n",
       "      <th>Radiation_Exposure</th>\n",
       "      <td>0.309375</td>\n",
       "      <td>0.121942</td>\n",
       "      <td>0.121174</td>\n",
       "    </tr>\n",
       "    <tr>\n",
       "      <th>Obesity</th>\n",
       "      <td>0.296931</td>\n",
       "      <td>0.300974</td>\n",
       "      <td>0.300981</td>\n",
       "    </tr>\n",
       "    <tr>\n",
       "      <th>Diabetes</th>\n",
       "      <td>0.200796</td>\n",
       "      <td>0.201000</td>\n",
       "      <td>0.198909</td>\n",
       "    </tr>\n",
       "    <tr>\n",
       "      <th>Smoking</th>\n",
       "      <td>0.199636</td>\n",
       "      <td>0.200483</td>\n",
       "      <td>0.197956</td>\n",
       "    </tr>\n",
       "  </tbody>\n",
       "</table>\n",
       "</div>"
      ],
      "text/plain": [
       "Thyroid_Cancer_Risk      High       Low    Medium\n",
       "Family_History       0.634016  0.241226  0.241050\n",
       "Iodine_Deficiency    0.471962  0.209968  0.209986\n",
       "Radiation_Exposure   0.309375  0.121942  0.121174\n",
       "Obesity              0.296931  0.300974  0.300981\n",
       "Diabetes             0.200796  0.201000  0.198909\n",
       "Smoking              0.199636  0.200483  0.197956"
      ]
     },
     "execution_count": 17,
     "metadata": {},
     "output_type": "execute_result"
    }
   ],
   "source": [
    "# What is the correlation between TSH, T3, T4, and thyroid cancer risk?\n",
    "symptom_cols = [\n",
    "    'Family_History',\n",
    "    'Radiation_Exposure',\n",
    "    'Iodine_Deficiency',\n",
    "    'Smoking',\n",
    "    'Obesity',\n",
    "    'Diabetes'\n",
    "]\n",
    "for col in symptom_cols:\n",
    "    df[col] = df[col].astype(str).str.strip().str.lower().map({'yes': 1, 'no': 0, 'true': 1, 'false': 0})\n",
    "\n",
    "df['Thyroid_Cancer_Risk'] = df['Thyroid_Cancer_Risk'].astype(str)\n",
    "\n",
    "symptom_by_risk = df.groupby('Thyroid_Cancer_Risk')[symptom_cols].mean().T\n",
    "\n",
    "if 'High' in symptom_by_risk.columns:\n",
    "    symptom_by_risk = symptom_by_risk.sort_values(by='High', ascending=False)\n",
    "\n",
    "symptom_by_risk"
   ]
  },
  {
   "cell_type": "code",
   "execution_count": 18,
   "id": "461ae593-0a64-4f37-a4f7-65376caa2760",
   "metadata": {},
   "outputs": [
    {
     "data": {
      "text/html": [
       "<div>\n",
       "<style scoped>\n",
       "    .dataframe tbody tr th:only-of-type {\n",
       "        vertical-align: middle;\n",
       "    }\n",
       "\n",
       "    .dataframe tbody tr th {\n",
       "        vertical-align: top;\n",
       "    }\n",
       "\n",
       "    .dataframe thead th {\n",
       "        text-align: right;\n",
       "    }\n",
       "</style>\n",
       "<table border=\"1\" class=\"dataframe\">\n",
       "  <thead>\n",
       "    <tr style=\"text-align: right;\">\n",
       "      <th></th>\n",
       "      <th>Risk_Score</th>\n",
       "      <th>Family_History</th>\n",
       "    </tr>\n",
       "  </thead>\n",
       "  <tbody>\n",
       "    <tr>\n",
       "      <th>Risk_Score</th>\n",
       "      <td>1.000000</td>\n",
       "      <td>0.239961</td>\n",
       "    </tr>\n",
       "    <tr>\n",
       "      <th>Family_History</th>\n",
       "      <td>0.239961</td>\n",
       "      <td>1.000000</td>\n",
       "    </tr>\n",
       "  </tbody>\n",
       "</table>\n",
       "</div>"
      ],
      "text/plain": [
       "                Risk_Score  Family_History\n",
       "Risk_Score        1.000000        0.239961\n",
       "Family_History    0.239961        1.000000"
      ]
     },
     "execution_count": 18,
     "metadata": {},
     "output_type": "execute_result"
    }
   ],
   "source": [
    "risk_mapping = {'Low': 0, 'Medium': 1, 'High': 2}\n",
    "df['Risk_Score'] = df['Thyroid_Cancer_Risk'].map(risk_mapping)\n",
    "selected_columns = ['Risk_Score','Family_History']\n",
    "corr = df[selected_columns].corr() \n",
    "corr"
   ]
  },
  {
   "cell_type": "code",
   "execution_count": 19,
   "id": "3def9064-5e2b-42cd-8847-afa0577c3c65",
   "metadata": {},
   "outputs": [
    {
     "data": {
      "text/html": [
       "<div>\n",
       "<style scoped>\n",
       "    .dataframe tbody tr th:only-of-type {\n",
       "        vertical-align: middle;\n",
       "    }\n",
       "\n",
       "    .dataframe tbody tr th {\n",
       "        vertical-align: top;\n",
       "    }\n",
       "\n",
       "    .dataframe thead th {\n",
       "        text-align: right;\n",
       "    }\n",
       "</style>\n",
       "<table border=\"1\" class=\"dataframe\">\n",
       "  <thead>\n",
       "    <tr style=\"text-align: right;\">\n",
       "      <th></th>\n",
       "      <th>Country</th>\n",
       "      <th>Risk_Score</th>\n",
       "      <th>count</th>\n",
       "    </tr>\n",
       "  </thead>\n",
       "  <tbody>\n",
       "    <tr>\n",
       "      <th>29</th>\n",
       "      <td>USA</td>\n",
       "      <td>2</td>\n",
       "      <td>1086</td>\n",
       "    </tr>\n",
       "    <tr>\n",
       "      <th>8</th>\n",
       "      <td>Germany</td>\n",
       "      <td>2</td>\n",
       "      <td>1117</td>\n",
       "    </tr>\n",
       "    <tr>\n",
       "      <th>20</th>\n",
       "      <td>Russia</td>\n",
       "      <td>2</td>\n",
       "      <td>2226</td>\n",
       "    </tr>\n",
       "    <tr>\n",
       "      <th>17</th>\n",
       "      <td>Nigeria</td>\n",
       "      <td>2</td>\n",
       "      <td>3357</td>\n",
       "    </tr>\n",
       "    <tr>\n",
       "      <th>14</th>\n",
       "      <td>Japan</td>\n",
       "      <td>2</td>\n",
       "      <td>1697</td>\n",
       "    </tr>\n",
       "    <tr>\n",
       "      <th>10</th>\n",
       "      <td>India</td>\n",
       "      <td>2</td>\n",
       "      <td>13965</td>\n",
       "    </tr>\n",
       "    <tr>\n",
       "      <th>26</th>\n",
       "      <td>UK</td>\n",
       "      <td>2</td>\n",
       "      <td>1107</td>\n",
       "    </tr>\n",
       "    <tr>\n",
       "      <th>23</th>\n",
       "      <td>South Korea</td>\n",
       "      <td>2</td>\n",
       "      <td>1571</td>\n",
       "    </tr>\n",
       "    <tr>\n",
       "      <th>5</th>\n",
       "      <td>China</td>\n",
       "      <td>2</td>\n",
       "      <td>3469</td>\n",
       "    </tr>\n",
       "    <tr>\n",
       "      <th>2</th>\n",
       "      <td>Brazil</td>\n",
       "      <td>2</td>\n",
       "      <td>2308</td>\n",
       "    </tr>\n",
       "    <tr>\n",
       "      <th>7</th>\n",
       "      <td>Germany</td>\n",
       "      <td>1</td>\n",
       "      <td>3736</td>\n",
       "    </tr>\n",
       "    <tr>\n",
       "      <th>22</th>\n",
       "      <td>South Korea</td>\n",
       "      <td>1</td>\n",
       "      <td>5451</td>\n",
       "    </tr>\n",
       "    <tr>\n",
       "      <th>25</th>\n",
       "      <td>UK</td>\n",
       "      <td>1</td>\n",
       "      <td>3732</td>\n",
       "    </tr>\n",
       "    <tr>\n",
       "      <th>13</th>\n",
       "      <td>Japan</td>\n",
       "      <td>1</td>\n",
       "      <td>6062</td>\n",
       "    </tr>\n",
       "    <tr>\n",
       "      <th>4</th>\n",
       "      <td>China</td>\n",
       "      <td>1</td>\n",
       "      <td>11369</td>\n",
       "    </tr>\n",
       "    <tr>\n",
       "      <th>1</th>\n",
       "      <td>Brazil</td>\n",
       "      <td>1</td>\n",
       "      <td>7751</td>\n",
       "    </tr>\n",
       "    <tr>\n",
       "      <th>16</th>\n",
       "      <td>Nigeria</td>\n",
       "      <td>1</td>\n",
       "      <td>11485</td>\n",
       "    </tr>\n",
       "    <tr>\n",
       "      <th>28</th>\n",
       "      <td>USA</td>\n",
       "      <td>1</td>\n",
       "      <td>3791</td>\n",
       "    </tr>\n",
       "    <tr>\n",
       "      <th>19</th>\n",
       "      <td>Russia</td>\n",
       "      <td>1</td>\n",
       "      <td>7609</td>\n",
       "    </tr>\n",
       "    <tr>\n",
       "      <th>11</th>\n",
       "      <td>India</td>\n",
       "      <td>1</td>\n",
       "      <td>11414</td>\n",
       "    </tr>\n",
       "    <tr>\n",
       "      <th>27</th>\n",
       "      <td>USA</td>\n",
       "      <td>0</td>\n",
       "      <td>5681</td>\n",
       "    </tr>\n",
       "    <tr>\n",
       "      <th>24</th>\n",
       "      <td>UK</td>\n",
       "      <td>0</td>\n",
       "      <td>5803</td>\n",
       "    </tr>\n",
       "    <tr>\n",
       "      <th>0</th>\n",
       "      <td>Brazil</td>\n",
       "      <td>0</td>\n",
       "      <td>11354</td>\n",
       "    </tr>\n",
       "    <tr>\n",
       "      <th>21</th>\n",
       "      <td>South Korea</td>\n",
       "      <td>0</td>\n",
       "      <td>7943</td>\n",
       "    </tr>\n",
       "    <tr>\n",
       "      <th>18</th>\n",
       "      <td>Russia</td>\n",
       "      <td>0</td>\n",
       "      <td>11462</td>\n",
       "    </tr>\n",
       "    <tr>\n",
       "      <th>12</th>\n",
       "      <td>Japan</td>\n",
       "      <td>0</td>\n",
       "      <td>9108</td>\n",
       "    </tr>\n",
       "    <tr>\n",
       "      <th>9</th>\n",
       "      <td>India</td>\n",
       "      <td>0</td>\n",
       "      <td>17117</td>\n",
       "    </tr>\n",
       "    <tr>\n",
       "      <th>6</th>\n",
       "      <td>Germany</td>\n",
       "      <td>0</td>\n",
       "      <td>5704</td>\n",
       "    </tr>\n",
       "    <tr>\n",
       "      <th>3</th>\n",
       "      <td>China</td>\n",
       "      <td>0</td>\n",
       "      <td>17140</td>\n",
       "    </tr>\n",
       "    <tr>\n",
       "      <th>15</th>\n",
       "      <td>Nigeria</td>\n",
       "      <td>0</td>\n",
       "      <td>17076</td>\n",
       "    </tr>\n",
       "  </tbody>\n",
       "</table>\n",
       "</div>"
      ],
      "text/plain": [
       "        Country  Risk_Score  count\n",
       "29          USA           2   1086\n",
       "8       Germany           2   1117\n",
       "20       Russia           2   2226\n",
       "17      Nigeria           2   3357\n",
       "14        Japan           2   1697\n",
       "10        India           2  13965\n",
       "26           UK           2   1107\n",
       "23  South Korea           2   1571\n",
       "5         China           2   3469\n",
       "2        Brazil           2   2308\n",
       "7       Germany           1   3736\n",
       "22  South Korea           1   5451\n",
       "25           UK           1   3732\n",
       "13        Japan           1   6062\n",
       "4         China           1  11369\n",
       "1        Brazil           1   7751\n",
       "16      Nigeria           1  11485\n",
       "28          USA           1   3791\n",
       "19       Russia           1   7609\n",
       "11        India           1  11414\n",
       "27          USA           0   5681\n",
       "24           UK           0   5803\n",
       "0        Brazil           0  11354\n",
       "21  South Korea           0   7943\n",
       "18       Russia           0  11462\n",
       "12        Japan           0   9108\n",
       "9         India           0  17117\n",
       "6       Germany           0   5704\n",
       "3         China           0  17140\n",
       "15      Nigeria           0  17076"
      ]
     },
     "execution_count": 19,
     "metadata": {},
     "output_type": "execute_result"
    }
   ],
   "source": [
    "riskby_Country = df.groupby('Country')['Risk_Score'].value_counts().reset_index().sort_values(by = 'Risk_Score', ascending = False)\n",
    "riskby_Country"
   ]
  },
  {
   "cell_type": "code",
   "execution_count": 20,
   "id": "85b4b458-2b3f-430e-8c69-5d3e3ed5faa4",
   "metadata": {},
   "outputs": [
    {
     "data": {
      "text/html": [
       "<div>\n",
       "<style scoped>\n",
       "    .dataframe tbody tr th:only-of-type {\n",
       "        vertical-align: middle;\n",
       "    }\n",
       "\n",
       "    .dataframe tbody tr th {\n",
       "        vertical-align: top;\n",
       "    }\n",
       "\n",
       "    .dataframe thead th {\n",
       "        text-align: right;\n",
       "    }\n",
       "</style>\n",
       "<table border=\"1\" class=\"dataframe\">\n",
       "  <thead>\n",
       "    <tr style=\"text-align: right;\">\n",
       "      <th></th>\n",
       "      <th>Country</th>\n",
       "      <th>Risk_Score</th>\n",
       "    </tr>\n",
       "  </thead>\n",
       "  <tbody>\n",
       "    <tr>\n",
       "      <th>3</th>\n",
       "      <td>India</td>\n",
       "      <td>0.925828</td>\n",
       "    </tr>\n",
       "    <tr>\n",
       "      <th>0</th>\n",
       "      <td>Brazil</td>\n",
       "      <td>0.577546</td>\n",
       "    </tr>\n",
       "    <tr>\n",
       "      <th>7</th>\n",
       "      <td>South Korea</td>\n",
       "      <td>0.574206</td>\n",
       "    </tr>\n",
       "    <tr>\n",
       "      <th>1</th>\n",
       "      <td>China</td>\n",
       "      <td>0.572487</td>\n",
       "    </tr>\n",
       "    <tr>\n",
       "      <th>5</th>\n",
       "      <td>Nigeria</td>\n",
       "      <td>0.570180</td>\n",
       "    </tr>\n",
       "    <tr>\n",
       "      <th>6</th>\n",
       "      <td>Russia</td>\n",
       "      <td>0.566324</td>\n",
       "    </tr>\n",
       "    <tr>\n",
       "      <th>2</th>\n",
       "      <td>Germany</td>\n",
       "      <td>0.565502</td>\n",
       "    </tr>\n",
       "    <tr>\n",
       "      <th>9</th>\n",
       "      <td>USA</td>\n",
       "      <td>0.564785</td>\n",
       "    </tr>\n",
       "    <tr>\n",
       "      <th>4</th>\n",
       "      <td>Japan</td>\n",
       "      <td>0.560621</td>\n",
       "    </tr>\n",
       "    <tr>\n",
       "      <th>8</th>\n",
       "      <td>UK</td>\n",
       "      <td>0.558730</td>\n",
       "    </tr>\n",
       "  </tbody>\n",
       "</table>\n",
       "</div>"
      ],
      "text/plain": [
       "       Country  Risk_Score\n",
       "3        India    0.925828\n",
       "0       Brazil    0.577546\n",
       "7  South Korea    0.574206\n",
       "1        China    0.572487\n",
       "5      Nigeria    0.570180\n",
       "6       Russia    0.566324\n",
       "2      Germany    0.565502\n",
       "9          USA    0.564785\n",
       "4        Japan    0.560621\n",
       "8           UK    0.558730"
      ]
     },
     "execution_count": 20,
     "metadata": {},
     "output_type": "execute_result"
    }
   ],
   "source": [
    "# How does the risk vary across different geographic locations?\n",
    "riskby_Country = df.groupby('Country')['Risk_Score'].mean().reset_index().sort_values(by = 'Risk_Score', ascending = False)\n",
    "riskby_Country"
   ]
  },
  {
   "cell_type": "code",
   "execution_count": 21,
   "id": "0a919346-f26d-4ba3-8c3a-18682d34be96",
   "metadata": {},
   "outputs": [
    {
     "data": {
      "text/html": [
       "<div>\n",
       "<style scoped>\n",
       "    .dataframe tbody tr th:only-of-type {\n",
       "        vertical-align: middle;\n",
       "    }\n",
       "\n",
       "    .dataframe tbody tr th {\n",
       "        vertical-align: top;\n",
       "    }\n",
       "\n",
       "    .dataframe thead th {\n",
       "        text-align: right;\n",
       "    }\n",
       "</style>\n",
       "<table border=\"1\" class=\"dataframe\">\n",
       "  <thead>\n",
       "    <tr style=\"text-align: right;\">\n",
       "      <th></th>\n",
       "      <th>Ethnicity</th>\n",
       "      <th>Risk_Score</th>\n",
       "      <th>count</th>\n",
       "    </tr>\n",
       "  </thead>\n",
       "  <tbody>\n",
       "    <tr>\n",
       "      <th>2</th>\n",
       "      <td>African</td>\n",
       "      <td>2</td>\n",
       "      <td>8209</td>\n",
       "    </tr>\n",
       "    <tr>\n",
       "      <th>4</th>\n",
       "      <td>Asian</td>\n",
       "      <td>2</td>\n",
       "      <td>17829</td>\n",
       "    </tr>\n",
       "    <tr>\n",
       "      <th>8</th>\n",
       "      <td>Caucasian</td>\n",
       "      <td>2</td>\n",
       "      <td>3200</td>\n",
       "    </tr>\n",
       "    <tr>\n",
       "      <th>11</th>\n",
       "      <td>Hispanic</td>\n",
       "      <td>2</td>\n",
       "      <td>1575</td>\n",
       "    </tr>\n",
       "    <tr>\n",
       "      <th>14</th>\n",
       "      <td>Middle Eastern</td>\n",
       "      <td>2</td>\n",
       "      <td>1090</td>\n",
       "    </tr>\n",
       "    <tr>\n",
       "      <th>1</th>\n",
       "      <td>African</td>\n",
       "      <td>1</td>\n",
       "      <td>13587</td>\n",
       "    </tr>\n",
       "    <tr>\n",
       "      <th>5</th>\n",
       "      <td>Asian</td>\n",
       "      <td>1</td>\n",
       "      <td>14178</td>\n",
       "    </tr>\n",
       "    <tr>\n",
       "      <th>7</th>\n",
       "      <td>Caucasian</td>\n",
       "      <td>1</td>\n",
       "      <td>24268</td>\n",
       "    </tr>\n",
       "    <tr>\n",
       "      <th>10</th>\n",
       "      <td>Hispanic</td>\n",
       "      <td>1</td>\n",
       "      <td>12167</td>\n",
       "    </tr>\n",
       "    <tr>\n",
       "      <th>13</th>\n",
       "      <td>Middle Eastern</td>\n",
       "      <td>1</td>\n",
       "      <td>8200</td>\n",
       "    </tr>\n",
       "    <tr>\n",
       "      <th>0</th>\n",
       "      <td>African</td>\n",
       "      <td>0</td>\n",
       "      <td>20618</td>\n",
       "    </tr>\n",
       "    <tr>\n",
       "      <th>3</th>\n",
       "      <td>Asian</td>\n",
       "      <td>0</td>\n",
       "      <td>21254</td>\n",
       "    </tr>\n",
       "    <tr>\n",
       "      <th>6</th>\n",
       "      <td>Caucasian</td>\n",
       "      <td>0</td>\n",
       "      <td>36201</td>\n",
       "    </tr>\n",
       "    <tr>\n",
       "      <th>9</th>\n",
       "      <td>Hispanic</td>\n",
       "      <td>0</td>\n",
       "      <td>18270</td>\n",
       "    </tr>\n",
       "    <tr>\n",
       "      <th>12</th>\n",
       "      <td>Middle Eastern</td>\n",
       "      <td>0</td>\n",
       "      <td>12045</td>\n",
       "    </tr>\n",
       "  </tbody>\n",
       "</table>\n",
       "</div>"
      ],
      "text/plain": [
       "         Ethnicity  Risk_Score  count\n",
       "2          African           2   8209\n",
       "4            Asian           2  17829\n",
       "8        Caucasian           2   3200\n",
       "11        Hispanic           2   1575\n",
       "14  Middle Eastern           2   1090\n",
       "1          African           1  13587\n",
       "5            Asian           1  14178\n",
       "7        Caucasian           1  24268\n",
       "10        Hispanic           1  12167\n",
       "13  Middle Eastern           1   8200\n",
       "0          African           0  20618\n",
       "3            Asian           0  21254\n",
       "6        Caucasian           0  36201\n",
       "9         Hispanic           0  18270\n",
       "12  Middle Eastern           0  12045"
      ]
     },
     "execution_count": 21,
     "metadata": {},
     "output_type": "execute_result"
    }
   ],
   "source": [
    "riskby_region = df.groupby('Ethnicity')['Risk_Score'].value_counts().reset_index().sort_values(by = 'Risk_Score', ascending = False)\n",
    "riskby_region"
   ]
  },
  {
   "cell_type": "code",
   "execution_count": 22,
   "id": "2c01fa62-7054-469b-829e-96580ec0e774",
   "metadata": {},
   "outputs": [
    {
     "data": {
      "text/html": [
       "<div>\n",
       "<style scoped>\n",
       "    .dataframe tbody tr th:only-of-type {\n",
       "        vertical-align: middle;\n",
       "    }\n",
       "\n",
       "    .dataframe tbody tr th {\n",
       "        vertical-align: top;\n",
       "    }\n",
       "\n",
       "    .dataframe thead th {\n",
       "        text-align: right;\n",
       "    }\n",
       "</style>\n",
       "<table border=\"1\" class=\"dataframe\">\n",
       "  <thead>\n",
       "    <tr style=\"text-align: right;\">\n",
       "      <th></th>\n",
       "      <th>Ethnicity</th>\n",
       "      <th>Risk_Score</th>\n",
       "    </tr>\n",
       "  </thead>\n",
       "  <tbody>\n",
       "    <tr>\n",
       "      <th>1</th>\n",
       "      <td>Asian</td>\n",
       "      <td>0.935694</td>\n",
       "    </tr>\n",
       "    <tr>\n",
       "      <th>0</th>\n",
       "      <td>African</td>\n",
       "      <td>0.707432</td>\n",
       "    </tr>\n",
       "    <tr>\n",
       "      <th>4</th>\n",
       "      <td>Middle Eastern</td>\n",
       "      <td>0.486524</td>\n",
       "    </tr>\n",
       "    <tr>\n",
       "      <th>2</th>\n",
       "      <td>Caucasian</td>\n",
       "      <td>0.481679</td>\n",
       "    </tr>\n",
       "    <tr>\n",
       "      <th>3</th>\n",
       "      <td>Hispanic</td>\n",
       "      <td>0.478477</td>\n",
       "    </tr>\n",
       "  </tbody>\n",
       "</table>\n",
       "</div>"
      ],
      "text/plain": [
       "        Ethnicity  Risk_Score\n",
       "1           Asian    0.935694\n",
       "0         African    0.707432\n",
       "4  Middle Eastern    0.486524\n",
       "2       Caucasian    0.481679\n",
       "3        Hispanic    0.478477"
      ]
     },
     "execution_count": 22,
     "metadata": {},
     "output_type": "execute_result"
    }
   ],
   "source": [
    "riskby_region = df.groupby('Ethnicity')['Risk_Score'].mean().reset_index().sort_values(by = 'Risk_Score', ascending = False)\n",
    "riskby_region"
   ]
  },
  {
   "cell_type": "code",
   "execution_count": 23,
   "id": "eba37d41-83f8-4c39-bf56-cd5ef4f5743b",
   "metadata": {},
   "outputs": [
    {
     "data": {
      "text/html": [
       "<div>\n",
       "<style scoped>\n",
       "    .dataframe tbody tr th:only-of-type {\n",
       "        vertical-align: middle;\n",
       "    }\n",
       "\n",
       "    .dataframe tbody tr th {\n",
       "        vertical-align: top;\n",
       "    }\n",
       "\n",
       "    .dataframe thead th {\n",
       "        text-align: right;\n",
       "    }\n",
       "</style>\n",
       "<table border=\"1\" class=\"dataframe\">\n",
       "  <thead>\n",
       "    <tr style=\"text-align: right;\">\n",
       "      <th></th>\n",
       "      <th>Gender</th>\n",
       "      <th>Risk_Score</th>\n",
       "    </tr>\n",
       "  </thead>\n",
       "  <tbody>\n",
       "    <tr>\n",
       "      <th>0</th>\n",
       "      <td>Female</td>\n",
       "      <td>0.643260</td>\n",
       "    </tr>\n",
       "    <tr>\n",
       "      <th>1</th>\n",
       "      <td>Male</td>\n",
       "      <td>0.636102</td>\n",
       "    </tr>\n",
       "  </tbody>\n",
       "</table>\n",
       "</div>"
      ],
      "text/plain": [
       "   Gender  Risk_Score\n",
       "0  Female    0.643260\n",
       "1    Male    0.636102"
      ]
     },
     "execution_count": 23,
     "metadata": {},
     "output_type": "execute_result"
    }
   ],
   "source": [
    "gender_vise_avg = df.groupby('Gender')['Risk_Score'].mean().reset_index().sort_values(by = 'Risk_Score', ascending = False)\n",
    "gender_vise_avg"
   ]
  },
  {
   "cell_type": "code",
   "execution_count": 24,
   "id": "bb3a4dc5-4485-4423-856d-c39e8e6b4640",
   "metadata": {},
   "outputs": [
    {
     "data": {
      "text/html": [
       "<div>\n",
       "<style scoped>\n",
       "    .dataframe tbody tr th:only-of-type {\n",
       "        vertical-align: middle;\n",
       "    }\n",
       "\n",
       "    .dataframe tbody tr th {\n",
       "        vertical-align: top;\n",
       "    }\n",
       "\n",
       "    .dataframe thead th {\n",
       "        text-align: right;\n",
       "    }\n",
       "</style>\n",
       "<table border=\"1\" class=\"dataframe\">\n",
       "  <thead>\n",
       "    <tr style=\"text-align: right;\">\n",
       "      <th></th>\n",
       "      <th>Gender</th>\n",
       "      <th>Risk_Score</th>\n",
       "      <th>count</th>\n",
       "    </tr>\n",
       "  </thead>\n",
       "  <tbody>\n",
       "    <tr>\n",
       "      <th>2</th>\n",
       "      <td>Female</td>\n",
       "      <td>2</td>\n",
       "      <td>19297</td>\n",
       "    </tr>\n",
       "    <tr>\n",
       "      <th>5</th>\n",
       "      <td>Male</td>\n",
       "      <td>2</td>\n",
       "      <td>12606</td>\n",
       "    </tr>\n",
       "    <tr>\n",
       "      <th>1</th>\n",
       "      <td>Female</td>\n",
       "      <td>1</td>\n",
       "      <td>43439</td>\n",
       "    </tr>\n",
       "    <tr>\n",
       "      <th>4</th>\n",
       "      <td>Male</td>\n",
       "      <td>1</td>\n",
       "      <td>28961</td>\n",
       "    </tr>\n",
       "    <tr>\n",
       "      <th>0</th>\n",
       "      <td>Female</td>\n",
       "      <td>0</td>\n",
       "      <td>64791</td>\n",
       "    </tr>\n",
       "    <tr>\n",
       "      <th>3</th>\n",
       "      <td>Male</td>\n",
       "      <td>0</td>\n",
       "      <td>43597</td>\n",
       "    </tr>\n",
       "  </tbody>\n",
       "</table>\n",
       "</div>"
      ],
      "text/plain": [
       "   Gender  Risk_Score  count\n",
       "2  Female           2  19297\n",
       "5    Male           2  12606\n",
       "1  Female           1  43439\n",
       "4    Male           1  28961\n",
       "0  Female           0  64791\n",
       "3    Male           0  43597"
      ]
     },
     "execution_count": 24,
     "metadata": {},
     "output_type": "execute_result"
    }
   ],
   "source": [
    "gender_vise_counts = df.groupby('Gender')['Risk_Score'].value_counts().reset_index().sort_values(by = 'Risk_Score', ascending = False)\n",
    "gender_vise_counts"
   ]
  },
  {
   "cell_type": "code",
   "execution_count": 25,
   "id": "29d208db-457a-4ea7-b757-5caf8cf08375",
   "metadata": {},
   "outputs": [
    {
     "name": "stdout",
     "output_type": "stream",
     "text": [
      "Thyroid_Cancer_Risk       High        Low     Medium\n",
      "Gender                                              \n",
      "Female               15.131698  50.805712  34.062591\n",
      "Male                 14.802029  51.191818  34.006153\n"
     ]
    }
   ],
   "source": [
    "Gender_vs_risk = pd.crosstab(df['Gender'], df['Thyroid_Cancer_Risk'], normalize='index') * 100\n",
    "print(Gender_vs_risk)"
   ]
  },
  {
   "cell_type": "code",
   "execution_count": 26,
   "id": "5c1dd8aa-d03c-4d6c-b226-13abf9251ff2",
   "metadata": {},
   "outputs": [
    {
     "data": {
      "text/html": [
       "<div>\n",
       "<style scoped>\n",
       "    .dataframe tbody tr th:only-of-type {\n",
       "        vertical-align: middle;\n",
       "    }\n",
       "\n",
       "    .dataframe tbody tr th {\n",
       "        vertical-align: top;\n",
       "    }\n",
       "\n",
       "    .dataframe thead th {\n",
       "        text-align: right;\n",
       "    }\n",
       "</style>\n",
       "<table border=\"1\" class=\"dataframe\">\n",
       "  <thead>\n",
       "    <tr style=\"text-align: right;\">\n",
       "      <th></th>\n",
       "      <th>Family_History</th>\n",
       "      <th>Risk_Score</th>\n",
       "      <th>count</th>\n",
       "    </tr>\n",
       "  </thead>\n",
       "  <tbody>\n",
       "    <tr>\n",
       "      <th>0</th>\n",
       "      <td>0</td>\n",
       "      <td>0</td>\n",
       "      <td>82242</td>\n",
       "    </tr>\n",
       "    <tr>\n",
       "      <th>3</th>\n",
       "      <td>1</td>\n",
       "      <td>0</td>\n",
       "      <td>26146</td>\n",
       "    </tr>\n",
       "    <tr>\n",
       "      <th>1</th>\n",
       "      <td>0</td>\n",
       "      <td>1</td>\n",
       "      <td>54948</td>\n",
       "    </tr>\n",
       "    <tr>\n",
       "      <th>5</th>\n",
       "      <td>1</td>\n",
       "      <td>1</td>\n",
       "      <td>17452</td>\n",
       "    </tr>\n",
       "    <tr>\n",
       "      <th>2</th>\n",
       "      <td>0</td>\n",
       "      <td>2</td>\n",
       "      <td>11676</td>\n",
       "    </tr>\n",
       "    <tr>\n",
       "      <th>4</th>\n",
       "      <td>1</td>\n",
       "      <td>2</td>\n",
       "      <td>20227</td>\n",
       "    </tr>\n",
       "  </tbody>\n",
       "</table>\n",
       "</div>"
      ],
      "text/plain": [
       "   Family_History  Risk_Score  count\n",
       "0               0           0  82242\n",
       "3               1           0  26146\n",
       "1               0           1  54948\n",
       "5               1           1  17452\n",
       "2               0           2  11676\n",
       "4               1           2  20227"
      ]
     },
     "execution_count": 26,
     "metadata": {},
     "output_type": "execute_result"
    }
   ],
   "source": [
    "risk_by_Family_History = df.groupby('Family_History')['Risk_Score'].value_counts().reset_index().sort_values(by = 'Risk_Score')\n",
    "risk_by_Family_History"
   ]
  },
  {
   "cell_type": "code",
   "execution_count": 27,
   "id": "cb70668c-3f90-4e5d-acd1-7d42751fde28",
   "metadata": {},
   "outputs": [
    {
     "name": "stdout",
     "output_type": "stream",
     "text": [
      "Thyroid_Cancer_Risk       High        Low     Medium\n",
      "Family_History                                      \n",
      "0                     7.843295  55.245657  36.911048\n",
      "1                    31.691344  40.965139  27.343517\n"
     ]
    }
   ],
   "source": [
    "Obesity_vs_risk = pd.crosstab(df['Family_History'], df['Thyroid_Cancer_Risk'], normalize='index') * 100\n",
    "print(Obesity_vs_risk)"
   ]
  },
  {
   "cell_type": "code",
   "execution_count": 28,
   "id": "143033af-aa4c-46f1-8882-49b515254c9d",
   "metadata": {},
   "outputs": [
    {
     "data": {
      "text/html": [
       "<div>\n",
       "<style scoped>\n",
       "    .dataframe tbody tr th:only-of-type {\n",
       "        vertical-align: middle;\n",
       "    }\n",
       "\n",
       "    .dataframe tbody tr th {\n",
       "        vertical-align: top;\n",
       "    }\n",
       "\n",
       "    .dataframe thead th {\n",
       "        text-align: right;\n",
       "    }\n",
       "</style>\n",
       "<table border=\"1\" class=\"dataframe\">\n",
       "  <thead>\n",
       "    <tr style=\"text-align: right;\">\n",
       "      <th></th>\n",
       "      <th>Diabetes</th>\n",
       "      <th>Risk_Score</th>\n",
       "      <th>count</th>\n",
       "    </tr>\n",
       "  </thead>\n",
       "  <tbody>\n",
       "    <tr>\n",
       "      <th>0</th>\n",
       "      <td>0</td>\n",
       "      <td>0</td>\n",
       "      <td>86602</td>\n",
       "    </tr>\n",
       "    <tr>\n",
       "      <th>3</th>\n",
       "      <td>1</td>\n",
       "      <td>0</td>\n",
       "      <td>21786</td>\n",
       "    </tr>\n",
       "    <tr>\n",
       "      <th>1</th>\n",
       "      <td>0</td>\n",
       "      <td>1</td>\n",
       "      <td>57999</td>\n",
       "    </tr>\n",
       "    <tr>\n",
       "      <th>4</th>\n",
       "      <td>1</td>\n",
       "      <td>1</td>\n",
       "      <td>14401</td>\n",
       "    </tr>\n",
       "    <tr>\n",
       "      <th>2</th>\n",
       "      <td>0</td>\n",
       "      <td>2</td>\n",
       "      <td>25497</td>\n",
       "    </tr>\n",
       "    <tr>\n",
       "      <th>5</th>\n",
       "      <td>1</td>\n",
       "      <td>2</td>\n",
       "      <td>6406</td>\n",
       "    </tr>\n",
       "  </tbody>\n",
       "</table>\n",
       "</div>"
      ],
      "text/plain": [
       "   Diabetes  Risk_Score  count\n",
       "0         0           0  86602\n",
       "3         1           0  21786\n",
       "1         0           1  57999\n",
       "4         1           1  14401\n",
       "2         0           2  25497\n",
       "5         1           2   6406"
      ]
     },
     "execution_count": 28,
     "metadata": {},
     "output_type": "execute_result"
    }
   ],
   "source": [
    "risk_by_Diabetes = df.groupby('Diabetes')['Risk_Score'].value_counts().reset_index().sort_values(by = 'Risk_Score')\n",
    "risk_by_Diabetes"
   ]
  },
  {
   "cell_type": "code",
   "execution_count": 29,
   "id": "5979cdd3-e43c-40e9-9d16-a9dc6b6689aa",
   "metadata": {},
   "outputs": [
    {
     "name": "stdout",
     "output_type": "stream",
     "text": [
      "Thyroid_Cancer_Risk       High        Low     Medium\n",
      "Diabetes                                            \n",
      "0                    14.989594  50.913003  34.097403\n",
      "1                    15.040030  51.149250  33.810720\n"
     ]
    }
   ],
   "source": [
    "Diabetes_vs_risk = pd.crosstab(df['Diabetes'], df['Thyroid_Cancer_Risk'], normalize='index') * 100\n",
    "print(Diabetes_vs_risk)"
   ]
  },
  {
   "cell_type": "code",
   "execution_count": 30,
   "id": "a62c59f3-2956-4628-a0af-d856d35a83cb",
   "metadata": {},
   "outputs": [
    {
     "data": {
      "text/html": [
       "<div>\n",
       "<style scoped>\n",
       "    .dataframe tbody tr th:only-of-type {\n",
       "        vertical-align: middle;\n",
       "    }\n",
       "\n",
       "    .dataframe tbody tr th {\n",
       "        vertical-align: top;\n",
       "    }\n",
       "\n",
       "    .dataframe thead th {\n",
       "        text-align: right;\n",
       "    }\n",
       "</style>\n",
       "<table border=\"1\" class=\"dataframe\">\n",
       "  <thead>\n",
       "    <tr style=\"text-align: right;\">\n",
       "      <th></th>\n",
       "      <th>Diagnosis</th>\n",
       "      <th>Risk_Score</th>\n",
       "      <th>count</th>\n",
       "    </tr>\n",
       "  </thead>\n",
       "  <tbody>\n",
       "    <tr>\n",
       "      <th>0</th>\n",
       "      <td>Benign</td>\n",
       "      <td>0</td>\n",
       "      <td>92153</td>\n",
       "    </tr>\n",
       "    <tr>\n",
       "      <th>4</th>\n",
       "      <td>Malignant</td>\n",
       "      <td>0</td>\n",
       "      <td>16235</td>\n",
       "    </tr>\n",
       "    <tr>\n",
       "      <th>1</th>\n",
       "      <td>Benign</td>\n",
       "      <td>1</td>\n",
       "      <td>61479</td>\n",
       "    </tr>\n",
       "    <tr>\n",
       "      <th>5</th>\n",
       "      <td>Malignant</td>\n",
       "      <td>1</td>\n",
       "      <td>10921</td>\n",
       "    </tr>\n",
       "    <tr>\n",
       "      <th>2</th>\n",
       "      <td>Benign</td>\n",
       "      <td>2</td>\n",
       "      <td>9564</td>\n",
       "    </tr>\n",
       "    <tr>\n",
       "      <th>3</th>\n",
       "      <td>Malignant</td>\n",
       "      <td>2</td>\n",
       "      <td>22339</td>\n",
       "    </tr>\n",
       "  </tbody>\n",
       "</table>\n",
       "</div>"
      ],
      "text/plain": [
       "   Diagnosis  Risk_Score  count\n",
       "0     Benign           0  92153\n",
       "4  Malignant           0  16235\n",
       "1     Benign           1  61479\n",
       "5  Malignant           1  10921\n",
       "2     Benign           2   9564\n",
       "3  Malignant           2  22339"
      ]
     },
     "execution_count": 30,
     "metadata": {},
     "output_type": "execute_result"
    }
   ],
   "source": [
    "risk_by_Diagnosis = df.groupby('Diagnosis')['Risk_Score'].value_counts().reset_index().sort_values(by = 'Risk_Score')\n",
    "risk_by_Diagnosis"
   ]
  },
  {
   "cell_type": "code",
   "execution_count": 31,
   "id": "a6779e5e-725d-48e5-b85c-6a532dd6e0d4",
   "metadata": {},
   "outputs": [
    {
     "name": "stdout",
     "output_type": "stream",
     "text": [
      "Age_Group\n",
      "41–50    0.647262\n",
      "61–70    0.643878\n",
      "81+      0.643480\n",
      "71–80    0.641959\n",
      "0–20     0.639789\n",
      "31–40    0.636883\n",
      "51–60    0.634906\n",
      "21–30    0.634808\n",
      "Name: Risk_Score, dtype: float64\n"
     ]
    },
    {
     "name": "stderr",
     "output_type": "stream",
     "text": [
      "C:\\Users\\KAUSHIK\\AppData\\Local\\Temp\\ipykernel_33320\\1835859962.py:5: FutureWarning: The default of observed=False is deprecated and will be changed to True in a future version of pandas. Pass observed=False to retain current behavior or observed=True to adopt the future default and silence this warning.\n",
      "  risk_by_age_group_avg = df.groupby('Age_Group')['Risk_Score'].mean().sort_values(ascending=False)\n"
     ]
    }
   ],
   "source": [
    "bins = [0, 20, 30, 40, 50, 60, 70, 80, 100]\n",
    "labels = ['0–20', '21–30', '31–40', '41–50', '51–60', '61–70', '71–80', '81+']\n",
    "df['Age_Group'] = pd.cut(df['Age'], bins=bins, labels=labels, right=False)\n",
    "\n",
    "risk_by_age_group_avg = df.groupby('Age_Group')['Risk_Score'].mean().sort_values(ascending=False)\n",
    "print(risk_by_age_group_avg)"
   ]
  },
  {
   "cell_type": "code",
   "execution_count": 32,
   "id": "33311069-b436-464f-8712-ac2d8b1144b6",
   "metadata": {},
   "outputs": [
    {
     "name": "stdout",
     "output_type": "stream",
     "text": [
      "Age_Group  Risk_Score\n",
      "0–20       0              7285\n",
      "           1              4813\n",
      "           2              2152\n",
      "21–30      0             14571\n",
      "           1              9639\n",
      "           2              4197\n",
      "31–40      0             14588\n",
      "           1              9681\n",
      "           2              4237\n",
      "41–50      0             14325\n",
      "           1              9715\n",
      "           2              4321\n",
      "51–60      0             14630\n",
      "           1              9637\n",
      "           2              4227\n",
      "61–70      0             14159\n",
      "           1              9728\n",
      "           2              4168\n",
      "71–80      0             14611\n",
      "           1              9656\n",
      "           2              4361\n",
      "81+        0             14219\n",
      "           1              9531\n",
      "           2              4240\n",
      "Name: count, dtype: int64\n"
     ]
    },
    {
     "name": "stderr",
     "output_type": "stream",
     "text": [
      "C:\\Users\\KAUSHIK\\AppData\\Local\\Temp\\ipykernel_33320\\530779088.py:5: FutureWarning: The default of observed=False is deprecated and will be changed to True in a future version of pandas. Pass observed=False to retain current behavior or observed=True to adopt the future default and silence this warning.\n",
      "  risk_by_age_group_counts = df.groupby('Age_Group')['Risk_Score'].value_counts()\n"
     ]
    }
   ],
   "source": [
    "bins = [0, 20, 30, 40, 50, 60, 70, 80, 100]\n",
    "labels = ['0–20', '21–30', '31–40', '41–50', '51–60', '61–70', '71–80', '81+']\n",
    "df['Age_Group'] = pd.cut(df['Age'], bins=bins, labels=labels, right=False)\n",
    "\n",
    "risk_by_age_group_counts = df.groupby('Age_Group')['Risk_Score'].value_counts()\n",
    "print(risk_by_age_group_counts)"
   ]
  },
  {
   "cell_type": "code",
   "execution_count": 33,
   "id": "303bfb26-3f68-4837-9362-c7c2679c06a3",
   "metadata": {},
   "outputs": [
    {
     "name": "stdout",
     "output_type": "stream",
     "text": [
      "Thyroid_Cancer_Risk       High        Low     Medium\n",
      "Iodine_Deficiency                                   \n",
      "0                    10.550312  53.628353  35.821335\n",
      "1                    28.399789  42.925044  28.675167\n"
     ]
    }
   ],
   "source": [
    "iodine_vs_risk = pd.crosstab(df['Iodine_Deficiency'], df['Thyroid_Cancer_Risk'], normalize='index') * 100\n",
    "print(iodine_vs_risk)"
   ]
  },
  {
   "cell_type": "code",
   "execution_count": 34,
   "id": "fb6b1934-8ee5-4342-95d3-38c7bf32e8c0",
   "metadata": {},
   "outputs": [
    {
     "name": "stdout",
     "output_type": "stream",
     "text": [
      "Thyroid_Cancer_Risk       High        Low     Medium\n",
      "Radiation_Exposure                                  \n",
      "0                    12.184305  52.629804  35.185892\n",
      "1                    30.979284  41.484620  27.536095\n"
     ]
    }
   ],
   "source": [
    "Radiation_vs_risk = pd.crosstab(df['Radiation_Exposure'], df['Thyroid_Cancer_Risk'], normalize='index') * 100\n",
    "print(Radiation_vs_risk)"
   ]
  },
  {
   "cell_type": "code",
   "execution_count": 35,
   "id": "dbf408a3-4165-49b6-8dab-e4e9399f3578",
   "metadata": {},
   "outputs": [
    {
     "name": "stdout",
     "output_type": "stream",
     "text": [
      "Thyroid_Cancer_Risk       High        Low     Medium\n",
      "Smoking                                             \n",
      "0                    14.997063  50.897451  34.105486\n",
      "1                    15.010252  51.212557  33.777191\n"
     ]
    }
   ],
   "source": [
    "Smoking_vs_risk = pd.crosstab(df['Smoking'], df['Thyroid_Cancer_Risk'], normalize='index') * 100\n",
    "print(Smoking_vs_risk)"
   ]
  },
  {
   "cell_type": "code",
   "execution_count": 36,
   "id": "fcc17833-f4ea-43ae-a8f7-666f63e1aa24",
   "metadata": {},
   "outputs": [
    {
     "name": "stdout",
     "output_type": "stream",
     "text": [
      "Thyroid_Cancer_Risk       High        Low     Medium\n",
      "Obesity                                             \n",
      "0                    15.073418  50.916300  34.010282\n",
      "1                    14.827975  51.062831  34.109195\n"
     ]
    }
   ],
   "source": [
    "Obesity_vs_risk = pd.crosstab(df['Obesity'], df['Thyroid_Cancer_Risk'], normalize='index') * 100\n",
    "print(Obesity_vs_risk)"
   ]
  },
  {
   "cell_type": "code",
   "execution_count": 37,
   "id": "f20a9e52-f499-48de-a04a-5cc163c57337",
   "metadata": {},
   "outputs": [
    {
     "data": {
      "text/html": [
       "<div>\n",
       "<style scoped>\n",
       "    .dataframe tbody tr th:only-of-type {\n",
       "        vertical-align: middle;\n",
       "    }\n",
       "\n",
       "    .dataframe tbody tr th {\n",
       "        vertical-align: top;\n",
       "    }\n",
       "\n",
       "    .dataframe thead th {\n",
       "        text-align: right;\n",
       "    }\n",
       "</style>\n",
       "<table border=\"1\" class=\"dataframe\">\n",
       "  <thead>\n",
       "    <tr style=\"text-align: right;\">\n",
       "      <th>Family_History</th>\n",
       "      <th>0</th>\n",
       "      <th>1</th>\n",
       "    </tr>\n",
       "    <tr>\n",
       "      <th>Country</th>\n",
       "      <th></th>\n",
       "      <th></th>\n",
       "    </tr>\n",
       "  </thead>\n",
       "  <tbody>\n",
       "    <tr>\n",
       "      <th>Germany</th>\n",
       "      <td>19.068935</td>\n",
       "      <td>80.931065</td>\n",
       "    </tr>\n",
       "    <tr>\n",
       "      <th>Russia</th>\n",
       "      <td>19.541779</td>\n",
       "      <td>80.458221</td>\n",
       "    </tr>\n",
       "    <tr>\n",
       "      <th>China</th>\n",
       "      <td>19.803978</td>\n",
       "      <td>80.196022</td>\n",
       "    </tr>\n",
       "    <tr>\n",
       "      <th>Japan</th>\n",
       "      <td>19.976429</td>\n",
       "      <td>80.023571</td>\n",
       "    </tr>\n",
       "    <tr>\n",
       "      <th>USA</th>\n",
       "      <td>20.349908</td>\n",
       "      <td>79.650092</td>\n",
       "    </tr>\n",
       "    <tr>\n",
       "      <th>South Korea</th>\n",
       "      <td>20.369192</td>\n",
       "      <td>79.630808</td>\n",
       "    </tr>\n",
       "    <tr>\n",
       "      <th>Brazil</th>\n",
       "      <td>21.057192</td>\n",
       "      <td>78.942808</td>\n",
       "    </tr>\n",
       "    <tr>\n",
       "      <th>Nigeria</th>\n",
       "      <td>21.298779</td>\n",
       "      <td>78.701221</td>\n",
       "    </tr>\n",
       "    <tr>\n",
       "      <th>UK</th>\n",
       "      <td>21.318880</td>\n",
       "      <td>78.681120</td>\n",
       "    </tr>\n",
       "    <tr>\n",
       "      <th>India</th>\n",
       "      <td>57.457931</td>\n",
       "      <td>42.542069</td>\n",
       "    </tr>\n",
       "  </tbody>\n",
       "</table>\n",
       "</div>"
      ],
      "text/plain": [
       "Family_History          0          1\n",
       "Country                             \n",
       "Germany         19.068935  80.931065\n",
       "Russia          19.541779  80.458221\n",
       "China           19.803978  80.196022\n",
       "Japan           19.976429  80.023571\n",
       "USA             20.349908  79.650092\n",
       "South Korea     20.369192  79.630808\n",
       "Brazil          21.057192  78.942808\n",
       "Nigeria         21.298779  78.701221\n",
       "UK              21.318880  78.681120\n",
       "India           57.457931  42.542069"
      ]
     },
     "execution_count": 37,
     "metadata": {},
     "output_type": "execute_result"
    }
   ],
   "source": [
    "high_risk_df = df[df['Thyroid_Cancer_Risk'] == 'High']\n",
    "\n",
    "result = pd.crosstab(high_risk_df['Country'], high_risk_df['Family_History'], normalize='index') * 100\n",
    "result = result.sort_values(by = 1,ascending=False)\n",
    "result"
   ]
  },
  {
   "cell_type": "code",
   "execution_count": 38,
   "id": "5fd90a06-da47-4336-8365-f08bea31d0e4",
   "metadata": {},
   "outputs": [
    {
     "data": {
      "text/html": [
       "<div>\n",
       "<style scoped>\n",
       "    .dataframe tbody tr th:only-of-type {\n",
       "        vertical-align: middle;\n",
       "    }\n",
       "\n",
       "    .dataframe tbody tr th {\n",
       "        vertical-align: top;\n",
       "    }\n",
       "\n",
       "    .dataframe thead th {\n",
       "        text-align: right;\n",
       "    }\n",
       "</style>\n",
       "<table border=\"1\" class=\"dataframe\">\n",
       "  <thead>\n",
       "    <tr style=\"text-align: right;\">\n",
       "      <th>Family_History</th>\n",
       "      <th>0</th>\n",
       "      <th>1</th>\n",
       "      <th>All</th>\n",
       "    </tr>\n",
       "    <tr>\n",
       "      <th>Country</th>\n",
       "      <th></th>\n",
       "      <th></th>\n",
       "      <th></th>\n",
       "    </tr>\n",
       "  </thead>\n",
       "  <tbody>\n",
       "    <tr>\n",
       "      <th>All</th>\n",
       "      <td>11676</td>\n",
       "      <td>20227</td>\n",
       "      <td>31903</td>\n",
       "    </tr>\n",
       "    <tr>\n",
       "      <th>India</th>\n",
       "      <td>8024</td>\n",
       "      <td>5941</td>\n",
       "      <td>13965</td>\n",
       "    </tr>\n",
       "    <tr>\n",
       "      <th>China</th>\n",
       "      <td>687</td>\n",
       "      <td>2782</td>\n",
       "      <td>3469</td>\n",
       "    </tr>\n",
       "    <tr>\n",
       "      <th>Nigeria</th>\n",
       "      <td>715</td>\n",
       "      <td>2642</td>\n",
       "      <td>3357</td>\n",
       "    </tr>\n",
       "    <tr>\n",
       "      <th>Brazil</th>\n",
       "      <td>486</td>\n",
       "      <td>1822</td>\n",
       "      <td>2308</td>\n",
       "    </tr>\n",
       "    <tr>\n",
       "      <th>Russia</th>\n",
       "      <td>435</td>\n",
       "      <td>1791</td>\n",
       "      <td>2226</td>\n",
       "    </tr>\n",
       "    <tr>\n",
       "      <th>Japan</th>\n",
       "      <td>339</td>\n",
       "      <td>1358</td>\n",
       "      <td>1697</td>\n",
       "    </tr>\n",
       "    <tr>\n",
       "      <th>South Korea</th>\n",
       "      <td>320</td>\n",
       "      <td>1251</td>\n",
       "      <td>1571</td>\n",
       "    </tr>\n",
       "    <tr>\n",
       "      <th>Germany</th>\n",
       "      <td>213</td>\n",
       "      <td>904</td>\n",
       "      <td>1117</td>\n",
       "    </tr>\n",
       "    <tr>\n",
       "      <th>UK</th>\n",
       "      <td>236</td>\n",
       "      <td>871</td>\n",
       "      <td>1107</td>\n",
       "    </tr>\n",
       "    <tr>\n",
       "      <th>USA</th>\n",
       "      <td>221</td>\n",
       "      <td>865</td>\n",
       "      <td>1086</td>\n",
       "    </tr>\n",
       "  </tbody>\n",
       "</table>\n",
       "</div>"
      ],
      "text/plain": [
       "Family_History      0      1    All\n",
       "Country                            \n",
       "All             11676  20227  31903\n",
       "India            8024   5941  13965\n",
       "China             687   2782   3469\n",
       "Nigeria           715   2642   3357\n",
       "Brazil            486   1822   2308\n",
       "Russia            435   1791   2226\n",
       "Japan             339   1358   1697\n",
       "South Korea       320   1251   1571\n",
       "Germany           213    904   1117\n",
       "UK                236    871   1107\n",
       "USA               221    865   1086"
      ]
     },
     "execution_count": 38,
     "metadata": {},
     "output_type": "execute_result"
    }
   ],
   "source": [
    "high_risk_df = df[df['Thyroid_Cancer_Risk'] == 'High']\n",
    "\n",
    "result = pd.crosstab(high_risk_df['Country'], high_risk_df['Family_History'], margins = True) \n",
    "result = result.sort_values(by = 1,ascending=False)\n",
    "result"
   ]
  },
  {
   "cell_type": "code",
   "execution_count": 39,
   "id": "eae86a3d-1b2d-43c8-96c2-02a55107b4da",
   "metadata": {},
   "outputs": [
    {
     "data": {
      "text/html": [
       "<div>\n",
       "<style scoped>\n",
       "    .dataframe tbody tr th:only-of-type {\n",
       "        vertical-align: middle;\n",
       "    }\n",
       "\n",
       "    .dataframe tbody tr th {\n",
       "        vertical-align: top;\n",
       "    }\n",
       "\n",
       "    .dataframe thead th {\n",
       "        text-align: right;\n",
       "    }\n",
       "</style>\n",
       "<table border=\"1\" class=\"dataframe\">\n",
       "  <thead>\n",
       "    <tr style=\"text-align: right;\">\n",
       "      <th>Gender</th>\n",
       "      <th>Female</th>\n",
       "      <th>Male</th>\n",
       "    </tr>\n",
       "    <tr>\n",
       "      <th>Country</th>\n",
       "      <th></th>\n",
       "      <th></th>\n",
       "    </tr>\n",
       "  </thead>\n",
       "  <tbody>\n",
       "    <tr>\n",
       "      <th>UK</th>\n",
       "      <td>55.736224</td>\n",
       "      <td>44.263776</td>\n",
       "    </tr>\n",
       "    <tr>\n",
       "      <th>Japan</th>\n",
       "      <td>59.281084</td>\n",
       "      <td>40.718916</td>\n",
       "    </tr>\n",
       "    <tr>\n",
       "      <th>Nigeria</th>\n",
       "      <td>59.904677</td>\n",
       "      <td>40.095323</td>\n",
       "    </tr>\n",
       "    <tr>\n",
       "      <th>Germany</th>\n",
       "      <td>60.250671</td>\n",
       "      <td>39.749329</td>\n",
       "    </tr>\n",
       "    <tr>\n",
       "      <th>Russia</th>\n",
       "      <td>60.601977</td>\n",
       "      <td>39.398023</td>\n",
       "    </tr>\n",
       "    <tr>\n",
       "      <th>South Korea</th>\n",
       "      <td>60.661999</td>\n",
       "      <td>39.338001</td>\n",
       "    </tr>\n",
       "    <tr>\n",
       "      <th>India</th>\n",
       "      <td>60.723237</td>\n",
       "      <td>39.276763</td>\n",
       "    </tr>\n",
       "    <tr>\n",
       "      <th>Brazil</th>\n",
       "      <td>60.745234</td>\n",
       "      <td>39.254766</td>\n",
       "    </tr>\n",
       "    <tr>\n",
       "      <th>USA</th>\n",
       "      <td>60.957643</td>\n",
       "      <td>39.042357</td>\n",
       "    </tr>\n",
       "    <tr>\n",
       "      <th>China</th>\n",
       "      <td>61.804555</td>\n",
       "      <td>38.195445</td>\n",
       "    </tr>\n",
       "  </tbody>\n",
       "</table>\n",
       "</div>"
      ],
      "text/plain": [
       "Gender          Female       Male\n",
       "Country                          \n",
       "UK           55.736224  44.263776\n",
       "Japan        59.281084  40.718916\n",
       "Nigeria      59.904677  40.095323\n",
       "Germany      60.250671  39.749329\n",
       "Russia       60.601977  39.398023\n",
       "South Korea  60.661999  39.338001\n",
       "India        60.723237  39.276763\n",
       "Brazil       60.745234  39.254766\n",
       "USA          60.957643  39.042357\n",
       "China        61.804555  38.195445"
      ]
     },
     "execution_count": 39,
     "metadata": {},
     "output_type": "execute_result"
    }
   ],
   "source": [
    "high_risk_df = df[df['Thyroid_Cancer_Risk'] == 'High']\n",
    "\n",
    "result = pd.crosstab(high_risk_df['Country'], high_risk_df['Gender'], normalize='index') * 100\n",
    "result = result.sort_values(by = 'Male',ascending=False)\n",
    "result"
   ]
  },
  {
   "cell_type": "code",
   "execution_count": 40,
   "id": "ad9b2b74-fd3a-478c-a6ad-14c0f671584c",
   "metadata": {},
   "outputs": [
    {
     "data": {
      "text/html": [
       "<div>\n",
       "<style scoped>\n",
       "    .dataframe tbody tr th:only-of-type {\n",
       "        vertical-align: middle;\n",
       "    }\n",
       "\n",
       "    .dataframe tbody tr th {\n",
       "        vertical-align: top;\n",
       "    }\n",
       "\n",
       "    .dataframe thead th {\n",
       "        text-align: right;\n",
       "    }\n",
       "</style>\n",
       "<table border=\"1\" class=\"dataframe\">\n",
       "  <thead>\n",
       "    <tr style=\"text-align: right;\">\n",
       "      <th>Gender</th>\n",
       "      <th>Female</th>\n",
       "      <th>Male</th>\n",
       "      <th>All</th>\n",
       "    </tr>\n",
       "    <tr>\n",
       "      <th>Country</th>\n",
       "      <th></th>\n",
       "      <th></th>\n",
       "      <th></th>\n",
       "    </tr>\n",
       "  </thead>\n",
       "  <tbody>\n",
       "    <tr>\n",
       "      <th>All</th>\n",
       "      <td>19297</td>\n",
       "      <td>12606</td>\n",
       "      <td>31903</td>\n",
       "    </tr>\n",
       "    <tr>\n",
       "      <th>India</th>\n",
       "      <td>8480</td>\n",
       "      <td>5485</td>\n",
       "      <td>13965</td>\n",
       "    </tr>\n",
       "    <tr>\n",
       "      <th>Nigeria</th>\n",
       "      <td>2011</td>\n",
       "      <td>1346</td>\n",
       "      <td>3357</td>\n",
       "    </tr>\n",
       "    <tr>\n",
       "      <th>China</th>\n",
       "      <td>2144</td>\n",
       "      <td>1325</td>\n",
       "      <td>3469</td>\n",
       "    </tr>\n",
       "    <tr>\n",
       "      <th>Brazil</th>\n",
       "      <td>1402</td>\n",
       "      <td>906</td>\n",
       "      <td>2308</td>\n",
       "    </tr>\n",
       "    <tr>\n",
       "      <th>Russia</th>\n",
       "      <td>1349</td>\n",
       "      <td>877</td>\n",
       "      <td>2226</td>\n",
       "    </tr>\n",
       "    <tr>\n",
       "      <th>Japan</th>\n",
       "      <td>1006</td>\n",
       "      <td>691</td>\n",
       "      <td>1697</td>\n",
       "    </tr>\n",
       "    <tr>\n",
       "      <th>South Korea</th>\n",
       "      <td>953</td>\n",
       "      <td>618</td>\n",
       "      <td>1571</td>\n",
       "    </tr>\n",
       "    <tr>\n",
       "      <th>UK</th>\n",
       "      <td>617</td>\n",
       "      <td>490</td>\n",
       "      <td>1107</td>\n",
       "    </tr>\n",
       "    <tr>\n",
       "      <th>Germany</th>\n",
       "      <td>673</td>\n",
       "      <td>444</td>\n",
       "      <td>1117</td>\n",
       "    </tr>\n",
       "    <tr>\n",
       "      <th>USA</th>\n",
       "      <td>662</td>\n",
       "      <td>424</td>\n",
       "      <td>1086</td>\n",
       "    </tr>\n",
       "  </tbody>\n",
       "</table>\n",
       "</div>"
      ],
      "text/plain": [
       "Gender       Female   Male    All\n",
       "Country                          \n",
       "All           19297  12606  31903\n",
       "India          8480   5485  13965\n",
       "Nigeria        2011   1346   3357\n",
       "China          2144   1325   3469\n",
       "Brazil         1402    906   2308\n",
       "Russia         1349    877   2226\n",
       "Japan          1006    691   1697\n",
       "South Korea     953    618   1571\n",
       "UK              617    490   1107\n",
       "Germany         673    444   1117\n",
       "USA             662    424   1086"
      ]
     },
     "execution_count": 40,
     "metadata": {},
     "output_type": "execute_result"
    }
   ],
   "source": [
    "high_risk_df = df[df['Thyroid_Cancer_Risk'] == 'High']\n",
    "\n",
    "result = pd.crosstab(high_risk_df['Country'], high_risk_df['Gender'], margins = True) \n",
    "result = result.sort_values(by = 'Male',ascending=False)\n",
    "result"
   ]
  },
  {
   "cell_type": "code",
   "execution_count": 41,
   "id": "9056e888-faa1-4efb-97c2-29759c680ebd",
   "metadata": {},
   "outputs": [
    {
     "data": {
      "image/png": "[encoded data removed]",
      "text/plain": [
       "<Figure size 640x480 with 2 Axes>"
      ]
     },
     "metadata": {},
     "output_type": "display_data"
    }
   ],
   "source": [
    "selected_columns = ['Family_History', 'Iodine_Deficiency','Smoking','Obesity','Diabetes','Risk_Score']\n",
    "\n",
    "corr = df[selected_columns].corr() \n",
    "\n",
    "sns.heatmap(corr, annot = True, cmap=\"coolwarm\")\n",
    "plt.title(\"Correlation Heatmap (Selected Columns)\")\n",
    "plt.show()"
   ]
  },
  {
   "cell_type": "code",
   "execution_count": 42,
   "id": "9bb1f3ae-311b-4490-bf64-1d4a5bf885a0",
   "metadata": {},
   "outputs": [
    {
     "data": {
      "image/png": "[encoded data removed]",
      "text/plain": [
       "<Figure size 640x480 with 2 Axes>"
      ]
     },
     "metadata": {},
     "output_type": "display_data"
    }
   ],
   "source": [
    "selected_columns = ['TSH_Level', 'T3_Level','T4_Level','Nodule_Size','Risk_Score']\n",
    "\n",
    "corr = df[selected_columns].corr() \n",
    "\n",
    "sns.heatmap(corr, annot = True, cmap=\"coolwarm\")\n",
    "plt.title(\"Correlation Heatmap (Selected Columns)\")\n",
    "plt.show()"
   ]
  },
  {
   "cell_type": "code",
   "execution_count": 43,
   "id": "26029510-80f1-41ca-9475-18b615fffcbf",
   "metadata": {},
   "outputs": [
    {
     "data": {
      "image/png": "[encoded data removed]",
      "text/plain": [
       "<Figure size 640x480 with 1 Axes>"
      ]
     },
     "metadata": {},
     "output_type": "display_data"
    }
   ],
   "source": [
    "counts_of_risk = df['Risk_Score'].value_counts()\n",
    "sns.barplot(x=counts_of_risk.index, y=counts_of_risk.values)\n",
    "plt.title('Risk to get Thyroid cancer')\n",
    "plt.ylabel('Count')\n",
    "plt.show()"
   ]
  },
  {
   "cell_type": "code",
   "execution_count": 44,
   "id": "08a3da1a-23b9-4bbd-a37e-2a7f610987cf",
   "metadata": {},
   "outputs": [
    {
     "data": {
      "image/png": "[encoded data removed]",
      "text/plain": [
       "<Figure size 640x480 with 1 Axes>"
      ]
     },
     "metadata": {},
     "output_type": "display_data"
    }
   ],
   "source": [
    "sns.countplot(data=df, x='Thyroid_Cancer_Risk', hue='Family_History')\n",
    "plt.title('Thyroid Cancer Risk by Family History')\n",
    "plt.show()"
   ]
  },
  {
   "cell_type": "code",
   "execution_count": 45,
   "id": "6a76f499-2f26-4ab8-bfae-2a0080698066",
   "metadata": {},
   "outputs": [
    {
     "data": {
      "image/png": "[encoded data removed]",
      "text/plain": [
       "<Figure size 640x480 with 1 Axes>"
      ]
     },
     "metadata": {},
     "output_type": "display_data"
    }
   ],
   "source": [
    "sns.countplot(data=df, x='Thyroid_Cancer_Risk', hue='Gender')\n",
    "plt.title('Thyroid Cancer Risk by Family History')\n",
    "plt.show()"
   ]
  },
  {
   "cell_type": "code",
   "execution_count": 46,
   "id": "82bb1a57-3eba-4664-bd3d-d37a999c88e3",
   "metadata": {},
   "outputs": [
    {
     "data": {
      "image/png": "[encoded data removed]",
      "text/plain": [
       "<Figure size 400x300 with 1 Axes>"
      ]
     },
     "metadata": {},
     "output_type": "display_data"
    },
    {
     "data": {
      "image/png": "[encoded data removed]",
      "text/plain": [
       "<Figure size 400x300 with 1 Axes>"
      ]
     },
     "metadata": {},
     "output_type": "display_data"
    },
    {
     "data": {
      "image/png": "[encoded data removed]",
      "text/plain": [
       "<Figure size 400x300 with 1 Axes>"
      ]
     },
     "metadata": {},
     "output_type": "display_data"
    }
   ],
   "source": [
    "plt.figure(figsize=(4, 3))\n",
    "sns.histplot(df['TSH_Level'], kde=True, color='blue')\n",
    "plt.title('Distribution of TSH Level')\n",
    "plt.show()\n",
    "\n",
    "plt.figure(figsize=(4, 3))\n",
    "sns.histplot(df['T3_Level'], kde=True, color='green')\n",
    "plt.title('Distribution of T3 Level')\n",
    "plt.show()\n",
    "\n",
    "plt.figure(figsize=(4, 3))\n",
    "sns.histplot(df['T4_Level'], kde=True, color='orange')\n",
    "plt.title('Distribution of T4 Level')\n",
    "plt.show()"
   ]
  },
  {
   "cell_type": "code",
   "execution_count": 47,
   "id": "7b776406-1fab-4ef0-a2a3-87a6c96ee1b9",
   "metadata": {},
   "outputs": [
    {
     "data": {
      "image/png": "[encoded data removed]",
      "text/plain": [
       "<Figure size 800x600 with 1 Axes>"
      ]
     },
     "metadata": {},
     "output_type": "display_data"
    }
   ],
   "source": [
    "high_risk_df = df[df['Thyroid_Cancer_Risk'] == 'High']\n",
    "pd.crosstab(high_risk_df['Age_Group'], high_risk_df['Gender'])\n",
    "\n",
    "plt.figure(figsize=(8, 6))\n",
    "sns.countplot(data = high_risk_df, x = 'Age_Group' , hue = 'Gender')\n",
    "plt.xlabel('Age_Group')\n",
    "plt.ylabel(\"Counts\")\n",
    "plt.legend(title=\"Gender\")\n",
    "plt.title('High risk in age_group by Gender')\n",
    "plt.tight_layout()\n",
    "plt.show()\n"
   ]
  },
  {
   "cell_type": "code",
   "execution_count": 48,
   "id": "a74a237a-64cd-47f9-989b-06da3353daa2",
   "metadata": {},
   "outputs": [
    {
     "data": {
      "image/png": "[encoded data removed]",
      "text/plain": [
       "<Figure size 800x600 with 1 Axes>"
      ]
     },
     "metadata": {},
     "output_type": "display_data"
    }
   ],
   "source": [
    "high_risk_df = df[df['Thyroid_Cancer_Risk'] == 'High']\n",
    "pd.crosstab(high_risk_df['Age_Group'], high_risk_df['Family_History'])\n",
    "\n",
    "plt.figure(figsize=(8, 6))\n",
    "sns.countplot(data = high_risk_df, x = 'Age_Group' , hue = 'Family_History')\n",
    "plt.xlabel('Age_Group')\n",
    "plt.ylabel(\"Counts\")\n",
    "plt.legend(title=\"Family_History\")\n",
    "plt.title('High risk in age_group by Family_History')\n",
    "plt.tight_layout()\n",
    "plt.show()\n"
   ]
  },
  {
   "cell_type": "code",
   "execution_count": 49,
   "id": "f0225959-03cc-4289-9fa0-16c1396e8da5",
   "metadata": {},
   "outputs": [
    {
     "data": {
      "image/png": "[encoded data removed]",
      "text/plain": [
       "<Figure size 1200x600 with 1 Axes>"
      ]
     },
     "metadata": {},
     "output_type": "display_data"
    }
   ],
   "source": [
    "plt.figure(figsize=(12,6))\n",
    "sns.countplot(data=df, x='Country', hue='Thyroid_Cancer_Risk')\n",
    "plt.title('Cancer Risk Levels Across Countries')\n",
    "plt.xticks(rotation=45)\n",
    "plt.show()"
   ]
  },
  {
   "cell_type": "code",
   "execution_count": 50,
   "id": "01aa18b3-09a9-465f-8376-4a20281c3252",
   "metadata": {},
   "outputs": [
    {
     "data": {
      "image/png": "[encoded data removed]",
      "text/plain": [
       "<Figure size 800x600 with 1 Axes>"
      ]
     },
     "metadata": {},
     "output_type": "display_data"
    }
   ],
   "source": [
    "plt.figure(figsize=(8,6))\n",
    "sns.countplot(data=df, x='Ethnicity', hue='Thyroid_Cancer_Risk')\n",
    "plt.title('Cancer Risk Levels Across Regions')\n",
    "plt.show()"
   ]
  },
  {
   "cell_type": "code",
   "execution_count": 51,
   "id": "4ecec75f-b9b4-4647-8f57-6d7b019a67fd",
   "metadata": {},
   "outputs": [
    {
     "data": {
      "image/png": "[encoded data removed]",
      "text/plain": [
       "<Figure size 640x480 with 1 Axes>"
      ]
     },
     "metadata": {},
     "output_type": "display_data"
    }
   ],
   "source": [
    "sns.boxplot(data=df, x='Thyroid_Cancer_Risk', y='Age')\n",
    "plt.title('Age Distribution by Risk Level')\n",
    "plt.show()\n"
   ]
  },
  {
   "cell_type": "code",
   "execution_count": 54,
   "id": "12e07f61-a581-4712-96e9-2bc1e7c0c872",
   "metadata": {},
   "outputs": [
    {
     "name": "stdout",
     "output_type": "stream",
     "text": [
      "Index(['Patient_ID', 'Age', 'Gender', 'Country', 'Ethnicity', 'Family_History',\n",
      "       'Radiation_Exposure', 'Iodine_Deficiency', 'Smoking', 'Obesity',\n",
      "       'Diabetes', 'TSH_Level', 'T3_Level', 'T4_Level', 'Nodule_Size',\n",
      "       'Thyroid_Cancer_Risk', 'Diagnosis', 'Risk_Score', 'Age_Group'],\n",
      "      dtype='object')\n"
     ]
    }
   ],
   "source": [
    "high_risk = df[df['Thyroid_Cancer_Risk'] == 'High']\n",
    "\n",
    "print(high_risk.columns)"
   ]
  },
  {
   "cell_type": "code",
   "execution_count": 56,
   "id": "6638b4df-48a7-46ca-8871-0df6b65aa995",
   "metadata": {},
   "outputs": [
    {
     "data": {
      "image/png": "[encoded data removed]",
      "text/plain": [
       "<Figure size 1000x600 with 1 Axes>"
      ]
     },
     "metadata": {},
     "output_type": "display_data"
    }
   ],
   "source": [
    "ct = pd.crosstab(high_risk['Country'], high_risk['Family_History'], normalize='index') * 100\n",
    "ct = ct.reset_index().melt(id_vars='Country', var_name='Family_History', value_name='Percentage')\n",
    "plt.figure(figsize=(10, 6))\n",
    "sns.barplot(data=ct, x='Country', y='Percentage', hue='Family_History', palette='Set2')\n",
    "plt.title('Family History (%) in High-Risk Patients by Country')\n",
    "plt.ylabel('Percentage')\n",
    "plt.xticks(rotation=45)\n",
    "plt.tight_layout()\n",
    "plt.show()"
   ]
  },
  {
   "cell_type": "markdown",
   "id": "9c3db60e-864c-48cf-b856-91b956bfc31e",
   "metadata": {},
   "source": [
    "##### The dataset was analyzed to explore how various factors relate to thyroid cancer risk. Demographic features like age, gender, and country were examined, revealing that older age groups and certain regions show higher risk. Hormone levels (TSH, T3, T4) were analyzed through distribution plots and correlation analysis, showing significant patterns linked to risk levels."
   ]
  },
  {
   "cell_type": "markdown",
   "id": "642e1f8c-1939-45a5-930d-aee3fb885166",
   "metadata": {},
   "source": [
    "##### Symptoms such as family history, iodine deficiency, obesity, and radiation exposure were found to be more common in high-risk patients, especially in specific countries. Crosstab and heatmaps helped identify these patterns. Bar plots and pie charts were used to visualize the influence of symptoms by region and gender."
   ]
  },
  {
   "cell_type": "markdown",
   "id": "96c37103-6295-4c1b-b769-41f1bef784dc",
   "metadata": {},
   "source": [
    "#### The analysis concluded that age, hormone levels, family history, and iodine deficiency are key contributors to high thyroid cancer risk."
   ]
  },
  {
   "cell_type": "code",
   "execution_count": null,
   "id": "34afb181-b27b-4f8f-947d-0782594eb972",
   "metadata": {},
   "outputs": [],
   "source": []
  }
 ],
 "metadata": {
  "kernelspec": {
   "display_name": "Python 3 (ipykernel)",
   "language": "python",
   "name": "python3"
  },
  "language_info": {
   "codemirror_mode": {
    "name": "ipython",
    "version": 3
   },
   "file_extension": ".py",
   "mimetype": "text/x-python",
   "name": "python",
   "nbconvert_exporter": "python",
   "pygments_lexer": "ipython3",
   "version": "3.12.4"
  }
 },
 "nbformat": 4,
 "nbformat_minor": 5
}
